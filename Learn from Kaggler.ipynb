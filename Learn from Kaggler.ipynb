{
 "cells": [
  {
   "cell_type": "code",
   "execution_count": 2,
   "metadata": {},
   "outputs": [
    {
     "data": {
      "text/plain": [
       "sys.version_info(major=3, minor=6, micro=5, releaselevel='final', serial=0)"
      ]
     },
     "execution_count": 2,
     "metadata": {},
     "output_type": "execute_result"
    }
   ],
   "source": [
    "import numpy as np\n",
    "import pandas as pd\n",
    "pd.set_option('display.max_rows', 500)\n",
    "pd.set_option('display.max_columns', 100)\n",
    "\n",
    "from itertools import product\n",
    "from sklearn.preprocessing import LabelEncoder\n",
    "\n",
    "import seaborn as sns\n",
    "import matplotlib.pyplot as plt\n",
    "%matplotlib inline\n",
    "\n",
    "from xgboost import XGBRegressor\n",
    "from xgboost import plot_importance\n",
    "\n",
    "def plot_features(booster, figsize):    \n",
    "    fig, ax = plt.subplots(1,1,figsize=figsize)\n",
    "    return plot_importance(booster=booster, ax=ax)\n",
    "\n",
    "import time\n",
    "import sys\n",
    "import gc\n",
    "import pickle\n",
    "sys.version_info"
   ]
  },
  {
   "cell_type": "code",
   "execution_count": 3,
   "metadata": {},
   "outputs": [],
   "source": [
    "import warnings\n",
    "warnings.filterwarnings(\"ignore\")"
   ]
  },
  {
   "cell_type": "code",
   "execution_count": 13,
   "metadata": {},
   "outputs": [],
   "source": [
    "items = pd.read_csv('./input/items.csv')\n",
    "shops = pd.read_csv('./input/shops.csv')\n",
    "cats = pd.read_csv('./input/item_categories.csv')\n",
    "train = pd.read_csv('./input/sales_train.csv')\n",
    "# set index to ID to avoid droping it later\n",
    "test  = pd.read_csv('./input/test.csv').set_index('ID')"
   ]
  },
  {
   "cell_type": "code",
   "execution_count": 60,
   "metadata": {},
   "outputs": [
    {
     "data": {
      "text/plain": [
       "<matplotlib.axes._subplots.AxesSubplot at 0x122c98ac8>"
      ]
     },
     "execution_count": 60,
     "metadata": {},
     "output_type": "execute_result"
    },
    {
     "data": {
      "image/png": "[encoded data removed]",
      "text/plain": [
       "<Figure size 720x288 with 1 Axes>"
      ]
     },
     "metadata": {
      "needs_background": "light"
     },
     "output_type": "display_data"
    },
    {
     "data": {
      "image/png": "[encoded data removed]",
      "text/plain": [
       "<Figure size 720x288 with 1 Axes>"
      ]
     },
     "metadata": {
      "needs_background": "light"
     },
     "output_type": "display_data"
    }
   ],
   "source": [
    "plt.figure(figsize=(10,4))\n",
    "plt.xlim(-100, 3000)\n",
    "sns.boxplot(x=train.item_cnt_day)\n",
    "\n",
    "plt.figure(figsize=(10,4))\n",
    "plt.xlim(train.item_price.min(), train.item_price.max()*1.1)\n",
    "sns.boxplot(x=train.item_price)"
   ]
  },
  {
   "cell_type": "code",
   "execution_count": 76,
   "metadata": {},
   "outputs": [],
   "source": [
    "train = train[train.item_price<100000]\n",
    "train = train[train.item_cnt_day<1001]"
   ]
  },
  {
   "cell_type": "code",
   "execution_count": 77,
   "metadata": {},
   "outputs": [],
   "source": [
    "median = train[(train.shop_id==32)&(train.item_id==2973)&(train.date_block_num==4)&(train.item_price>0)].item_price.median()\n",
    "train.loc[train.item_price<0, 'item_price'] = median"
   ]
  },
  {
   "cell_type": "code",
   "execution_count": 14,
   "metadata": {},
   "outputs": [],
   "source": [
    "# Якутск Орджоникидзе, 56\n",
    "train.loc[train.shop_id == 0, 'shop_id'] = 57\n",
    "test.loc[test.shop_id == 0, 'shop_id'] = 57\n",
    "# Якутск ТЦ \"Центральный\"\n",
    "train.loc[train.shop_id == 1, 'shop_id'] = 58\n",
    "test.loc[test.shop_id == 1, 'shop_id'] = 58\n",
    "# Жуковский ул. Чкалова 39м²\n",
    "train.loc[train.shop_id == 10, 'shop_id'] = 11\n",
    "test.loc[test.shop_id == 10, 'shop_id'] = 11"
   ]
  },
  {
   "cell_type": "code",
   "execution_count": 94,
   "metadata": {},
   "outputs": [],
   "source": [
    "ss = pd.read_csv('./input/shops.csv')"
   ]
  },
  {
   "cell_type": "code",
   "execution_count": 101,
   "metadata": {},
   "outputs": [
    {
     "data": {
      "text/plain": [
       "'!Якутск Орджоникидзе, 56 фран'"
      ]
     },
     "execution_count": 101,
     "metadata": {},
     "output_type": "execute_result"
    }
   ],
   "source": [
    "ss['shop_name'][0]"
   ]
  },
  {
   "cell_type": "code",
   "execution_count": 103,
   "metadata": {},
   "outputs": [
    {
     "data": {
      "text/plain": [
       "pandas.core.strings.StringMethods"
      ]
     },
     "execution_count": 103,
     "metadata": {},
     "output_type": "execute_result"
    }
   ],
   "source": [
    "type(ss['shop_name'].str)"
   ]
  },
  {
   "cell_type": "markdown",
   "metadata": {},
   "source": [
    "```\n",
    "小技巧： \n",
    "1. 先 dataframe.str 取出每個 row 的 string 最後只取空白前面的字串\n",
    "2. LabelEncoder().fit_transform(shops['city']) 可以把不同的城市名稱用數字來代表一類\n",
    "```"
   ]
  },
  {
   "cell_type": "code",
   "execution_count": 79,
   "metadata": {},
   "outputs": [],
   "source": [
    "shops.loc[shops.shop_name == 'Сергиев Посад ТЦ \"7Я\"', 'shop_name'] = 'СергиевПосад ТЦ \"7Я\"'\n",
    "shops['city'] = shops['shop_name'].str.split(' ').map(lambda x: x[0])\n",
    "shops.loc[shops.city == '!Якутск', 'city'] = 'Якутск'\n",
    "shops['city_code'] = LabelEncoder().fit_transform(shops['city'])\n",
    "shops = shops[['shop_id','city_code']]\n",
    "\n",
    "cats['split'] = cats['item_category_name'].str.split('-')\n",
    "cats['type'] = cats['split'].map(lambda x: x[0].strip())\n",
    "cats['type_code'] = LabelEncoder().fit_transform(cats['type'])\n",
    "# if subtype is nan then type\n",
    "cats['subtype'] = cats['split'].map(lambda x: x[1].strip() if len(x) > 1 else x[0].strip())\n",
    "cats['subtype_code'] = LabelEncoder().fit_transform(cats['subtype'])\n",
    "cats = cats[['item_category_id','type_code', 'subtype_code']]\n",
    "\n",
    "items.drop(['item_name'], axis=1, inplace=True)"
   ]
  },
  {
   "cell_type": "code",
   "execution_count": 8,
   "metadata": {},
   "outputs": [
    {
     "data": {
      "text/plain": [
       "(363, 5100, 214200)"
      ]
     },
     "execution_count": 8,
     "metadata": {},
     "output_type": "execute_result"
    }
   ],
   "source": [
    "len(list(set(test.item_id) - set(test.item_id).intersection(set(train.item_id)))), len(list(set(test.item_id))), len(test)"
   ]
  },
  {
   "cell_type": "markdown",
   "metadata": {},
   "source": [
    "```\n",
    "小技巧：\n",
    "1. itertools 的 product 是用來產生各種組合，這裡是 0-33 和商店 id 、物品 id的所有組合\n",
    "```"
   ]
  },
  {
   "cell_type": "code",
   "execution_count": 9,
   "metadata": {},
   "outputs": [
    {
     "data": {
      "text/plain": [
       "10.694971799850464"
      ]
     },
     "execution_count": 9,
     "metadata": {},
     "output_type": "execute_result"
    }
   ],
   "source": [
    "ts = time.time()\n",
    "matrix = []\n",
    "cols = ['date_block_num','shop_id','item_id']\n",
    "for i in range(34):\n",
    "    sales = train[train.date_block_num==i]\n",
    "    matrix.append(np.array(list(product([i], sales.shop_id.unique(), sales.item_id.unique())), dtype='int16'))\n",
    "    \n",
    "matrix = pd.DataFrame(np.vstack(matrix), columns=cols)\n",
    "matrix['date_block_num'] = matrix['date_block_num'].astype(np.int8)\n",
    "matrix['shop_id'] = matrix['shop_id'].astype(np.int8)\n",
    "matrix['item_id'] = matrix['item_id'].astype(np.int16)\n",
    "matrix.sort_values(cols,inplace=True)\n",
    "time.time() - ts"
   ]
  },
  {
   "cell_type": "code",
   "execution_count": 10,
   "metadata": {},
   "outputs": [],
   "source": [
    "train['revenue'] = train['item_price'] *  train['item_cnt_day']"
   ]
  },
  {
   "cell_type": "markdown",
   "metadata": {},
   "source": [
    "```\n",
    "小技巧：\n",
    "1. groupby 順序滿重要的，代表不同意義，這裏 data_block_num 放第一個代表先把所有 row 依照不同月份分類，以此類推\n",
    "2. agg 代表 aggregate function ，裡面用 dictionary 的方式表示某 column 要做哪些事\n",
    "3. group 整理出來的東西代表不同月每個家商店中的某樣商品共賣了多少量\n",
    "4. pd.merge 是把兩個 dataframe 合併，但合併有很多方式，這裡用的是依照相同的欄位 ['date_block_num','shop_id','item_id'] 來把 group 合併到 matrix 中，此外因為是 left 合併而 matrix 中有很多欄位是 group 沒有的所以合併後的 dataframe 會有很多 NaN\n",
    "5. 為了解決 NaN 的問題所以用到 fillna(0) ，把所有缺值改成 0\n",
    "6. clip 是用來限制欄位中的值的大小不能低於地板 (0)，也不能高於天花板 (20)\n",
    "```"
   ]
  },
  {
   "cell_type": "code",
   "execution_count": 11,
   "metadata": {},
   "outputs": [
    {
     "data": {
      "text/plain": [
       "4.992633104324341"
      ]
     },
     "execution_count": 11,
     "metadata": {},
     "output_type": "execute_result"
    }
   ],
   "source": [
    "ts = time.time()\n",
    "group = train.groupby(['date_block_num','shop_id','item_id']).agg({'item_cnt_day': ['sum']})\n",
    "group.columns = ['item_cnt_month']\n",
    "group.reset_index(inplace=True)\n",
    "\n",
    "matrix = pd.merge(matrix, group, on=cols, how='left')\n",
    "matrix['item_cnt_month'] = (matrix['item_cnt_month']\n",
    "                                .fillna(0)\n",
    "                                .clip(0,20) # NB clip target here\n",
    "                                .astype(np.float16))\n",
    "time.time() - ts"
   ]
  },
  {
   "cell_type": "markdown",
   "metadata": {},
   "source": [
    "小技巧：\n",
    "1. 用 astype 轉型讓 dataframe 空間小點(numpy.int64 -> numpy.int8)"
   ]
  },
  {
   "cell_type": "code",
   "execution_count": 15,
   "metadata": {},
   "outputs": [],
   "source": [
    "test['date_block_num'] = 34\n",
    "test['date_block_num'] = test['date_block_num'].astype(np.int8)\n",
    "test['shop_id'] = test['shop_id'].astype(np.int8)\n",
    "test['item_id'] = test['item_id'].astype(np.int16)"
   ]
  },
  {
   "cell_type": "markdown",
   "metadata": {},
   "source": [
    "```\n",
    "把 testing data 月份標記成第 34 個月，加在 matrix tail 的部分，並把銷售量先填 0\n",
    "```"
   ]
  },
  {
   "cell_type": "code",
   "execution_count": 13,
   "metadata": {},
   "outputs": [
    {
     "data": {
      "text/plain": [
       "0.1010749340057373"
      ]
     },
     "execution_count": 13,
     "metadata": {},
     "output_type": "execute_result"
    }
   ],
   "source": [
    "ts = time.time()\n",
    "matrix = pd.concat([matrix, test], ignore_index=True, sort=False, keys=cols)\n",
    "matrix.fillna(0, inplace=True) # 34 month\n",
    "time.time() - ts"
   ]
  },
  {
   "cell_type": "markdown",
   "metadata": {},
   "source": [
    "```\n",
    "直接 merge 也不會有空值，因為 matrix 裡面的 shop_id ， shops 裡面一定也有，同理 items, cats 也是\n",
    "```"
   ]
  },
  {
   "cell_type": "code",
   "execution_count": 14,
   "metadata": {},
   "outputs": [
    {
     "data": {
      "text/plain": [
       "3.781827211380005"
      ]
     },
     "execution_count": 14,
     "metadata": {},
     "output_type": "execute_result"
    }
   ],
   "source": [
    "ts = time.time()\n",
    "matrix = pd.merge(matrix, shops, on=['shop_id'], how='left')\n",
    "matrix = pd.merge(matrix, items, on=['item_id'], how='left')\n",
    "matrix = pd.merge(matrix, cats, on=['item_category_id'], how='left')\n",
    "matrix['city_code'] = matrix['city_code'].astype(np.int8)\n",
    "matrix['item_category_id'] = matrix['item_category_id'].astype(np.int8)\n",
    "matrix['type_code'] = matrix['type_code'].astype(np.int8)\n",
    "matrix['subtype_code'] = matrix['subtype_code'].astype(np.int8)\n",
    "time.time() - ts"
   ]
  },
  {
   "cell_type": "markdown",
   "metadata": {},
   "source": [
    "```\n",
    "lag_feature function 可以新增上＿個月的資料\n",
    "```"
   ]
  },
  {
   "cell_type": "code",
   "execution_count": 15,
   "metadata": {},
   "outputs": [],
   "source": [
    "def lag_feature(df, lags, col):\n",
    "    tmp = df[['date_block_num','shop_id','item_id',col]]\n",
    "    for i in lags:\n",
    "        shifted = tmp.copy()\n",
    "        shifted.columns = ['date_block_num','shop_id','item_id', col+'_lag_'+str(i)]\n",
    "        shifted['date_block_num'] += i\n",
    "        df = pd.merge(df, shifted, on=['date_block_num','shop_id','item_id'], how='left')\n",
    "    return df"
   ]
  },
  {
   "cell_type": "markdown",
   "metadata": {},
   "source": [
    "```\n",
    "新增欄位分別是商品 1,2,3,6,12 個月前的銷售量\n",
    "merge 之後有很多缺值\n",
    "```"
   ]
  },
  {
   "cell_type": "code",
   "execution_count": 16,
   "metadata": {},
   "outputs": [
    {
     "data": {
      "text/plain": [
       "30.820859909057617"
      ]
     },
     "execution_count": 16,
     "metadata": {},
     "output_type": "execute_result"
    }
   ],
   "source": [
    "ts = time.time()\n",
    "matrix = lag_feature(matrix, [1,2,3,6,12], 'item_cnt_month')\n",
    "time.time() - ts"
   ]
  },
  {
   "cell_type": "markdown",
   "metadata": {},
   "source": [
    "```\n",
    "新增一個欄位代表上個月所有物品的平均銷售量\n",
    "```"
   ]
  },
  {
   "cell_type": "code",
   "execution_count": 17,
   "metadata": {},
   "outputs": [
    {
     "data": {
      "text/plain": [
       "10.093020915985107"
      ]
     },
     "execution_count": 17,
     "metadata": {},
     "output_type": "execute_result"
    }
   ],
   "source": [
    "ts = time.time()\n",
    "group = matrix.groupby(['date_block_num']).agg({'item_cnt_month': ['mean']})\n",
    "group.columns = [ 'date_avg_item_cnt' ]\n",
    "group.reset_index(inplace=True)\n",
    "\n",
    "matrix = pd.merge(matrix, group, on=['date_block_num'], how='left')\n",
    "matrix['date_avg_item_cnt'] = matrix['date_avg_item_cnt'].astype(np.float16)\n",
    "matrix = lag_feature(matrix, [1], 'date_avg_item_cnt')\n",
    "matrix.drop(['date_avg_item_cnt'], axis=1, inplace=True)\n",
    "time.time() - ts"
   ]
  },
  {
   "cell_type": "markdown",
   "metadata": {},
   "source": [
    "```\n",
    "新增欄位代表上 1,2,3,6,12 個月該物品的平均銷售量\n",
    "```"
   ]
  },
  {
   "cell_type": "code",
   "execution_count": 18,
   "metadata": {},
   "outputs": [
    {
     "data": {
      "text/plain": [
       "37.40001821517944"
      ]
     },
     "execution_count": 18,
     "metadata": {},
     "output_type": "execute_result"
    }
   ],
   "source": [
    "ts = time.time()\n",
    "group = matrix.groupby(['date_block_num', 'item_id']).agg({'item_cnt_month': ['mean']})\n",
    "group.columns = [ 'date_item_avg_item_cnt' ]\n",
    "group.reset_index(inplace=True)\n",
    "\n",
    "matrix = pd.merge(matrix, group, on=['date_block_num','item_id'], how='left')\n",
    "matrix['date_item_avg_item_cnt'] = matrix['date_item_avg_item_cnt'].astype(np.float16)\n",
    "matrix = lag_feature(matrix, [1,2,3,6,12], 'date_item_avg_item_cnt')\n",
    "matrix.drop(['date_item_avg_item_cnt'], axis=1, inplace=True)\n",
    "time.time() - ts"
   ]
  },
  {
   "cell_type": "markdown",
   "metadata": {},
   "source": [
    "```\n",
    "新增欄位代表上 1,2,3,6,12 個月該商店的平均銷售量\n",
    "```"
   ]
  },
  {
   "cell_type": "code",
   "execution_count": 19,
   "metadata": {},
   "outputs": [
    {
     "data": {
      "text/plain": [
       "39.19316792488098"
      ]
     },
     "execution_count": 19,
     "metadata": {},
     "output_type": "execute_result"
    }
   ],
   "source": [
    "ts = time.time()\n",
    "group = matrix.groupby(['date_block_num', 'shop_id']).agg({'item_cnt_month': ['mean']})\n",
    "group.columns = [ 'date_shop_avg_item_cnt' ]\n",
    "group.reset_index(inplace=True)\n",
    "\n",
    "matrix = pd.merge(matrix, group, on=['date_block_num','shop_id'], how='left')\n",
    "matrix['date_shop_avg_item_cnt'] = matrix['date_shop_avg_item_cnt'].astype(np.float16)\n",
    "matrix = lag_feature(matrix, [1,2,3,6,12], 'date_shop_avg_item_cnt')\n",
    "matrix.drop(['date_shop_avg_item_cnt'], axis=1, inplace=True)\n",
    "time.time() - ts"
   ]
  },
  {
   "cell_type": "markdown",
   "metadata": {},
   "source": [
    "```\n",
    "新增一個欄位代表上個月該類物品的平均銷售量\n",
    "```"
   ]
  },
  {
   "cell_type": "code",
   "execution_count": 20,
   "metadata": {},
   "outputs": [
    {
     "data": {
      "text/plain": [
       "14.198522090911865"
      ]
     },
     "execution_count": 20,
     "metadata": {},
     "output_type": "execute_result"
    }
   ],
   "source": [
    "ts = time.time()\n",
    "group = matrix.groupby(['date_block_num', 'item_category_id']).agg({'item_cnt_month': ['mean']})\n",
    "group.columns = [ 'date_cat_avg_item_cnt' ]\n",
    "group.reset_index(inplace=True)\n",
    "\n",
    "matrix = pd.merge(matrix, group, on=['date_block_num','item_category_id'], how='left')\n",
    "matrix['date_cat_avg_item_cnt'] = matrix['date_cat_avg_item_cnt'].astype(np.float16)\n",
    "matrix = lag_feature(matrix, [1], 'date_cat_avg_item_cnt')\n",
    "matrix.drop(['date_cat_avg_item_cnt'], axis=1, inplace=True)\n",
    "time.time() - ts"
   ]
  },
  {
   "cell_type": "markdown",
   "metadata": {},
   "source": [
    "```\n",
    "新增一個欄位代表上個月該商店中某類物品的平均銷售量\n",
    "```"
   ]
  },
  {
   "cell_type": "code",
   "execution_count": 21,
   "metadata": {},
   "outputs": [
    {
     "data": {
      "text/plain": [
       "15.519139051437378"
      ]
     },
     "execution_count": 21,
     "metadata": {},
     "output_type": "execute_result"
    }
   ],
   "source": [
    "ts = time.time()\n",
    "group = matrix.groupby(['date_block_num', 'shop_id', 'item_category_id']).agg({'item_cnt_month': ['mean']})\n",
    "group.columns = ['date_shop_cat_avg_item_cnt']\n",
    "group.reset_index(inplace=True)\n",
    "\n",
    "matrix = pd.merge(matrix, group, on=['date_block_num', 'shop_id', 'item_category_id'], how='left')\n",
    "matrix['date_shop_cat_avg_item_cnt'] = matrix['date_shop_cat_avg_item_cnt'].astype(np.float16)\n",
    "matrix = lag_feature(matrix, [1], 'date_shop_cat_avg_item_cnt')\n",
    "matrix.drop(['date_shop_cat_avg_item_cnt'], axis=1, inplace=True)\n",
    "time.time() - ts"
   ]
  },
  {
   "cell_type": "code",
   "execution_count": 22,
   "metadata": {},
   "outputs": [
    {
     "data": {
      "text/plain": [
       "15.855093955993652"
      ]
     },
     "execution_count": 22,
     "metadata": {},
     "output_type": "execute_result"
    }
   ],
   "source": [
    "ts = time.time()\n",
    "group = matrix.groupby(['date_block_num', 'shop_id', 'type_code']).agg({'item_cnt_month': ['mean']})\n",
    "group.columns = ['date_shop_type_avg_item_cnt']\n",
    "group.reset_index(inplace=True)\n",
    "\n",
    "matrix = pd.merge(matrix, group, on=['date_block_num', 'shop_id', 'type_code'], how='left')\n",
    "matrix['date_shop_type_avg_item_cnt'] = matrix['date_shop_type_avg_item_cnt'].astype(np.float16)\n",
    "matrix = lag_feature(matrix, [1], 'date_shop_type_avg_item_cnt')\n",
    "matrix.drop(['date_shop_type_avg_item_cnt'], axis=1, inplace=True)\n",
    "time.time() - ts"
   ]
  },
  {
   "cell_type": "code",
   "execution_count": 23,
   "metadata": {},
   "outputs": [
    {
     "data": {
      "text/plain": [
       "15.848094940185547"
      ]
     },
     "execution_count": 23,
     "metadata": {},
     "output_type": "execute_result"
    }
   ],
   "source": [
    "ts = time.time()\n",
    "group = matrix.groupby(['date_block_num', 'shop_id', 'subtype_code']).agg({'item_cnt_month': ['mean']})\n",
    "group.columns = ['date_shop_subtype_avg_item_cnt']\n",
    "group.reset_index(inplace=True)\n",
    "\n",
    "matrix = pd.merge(matrix, group, on=['date_block_num', 'shop_id', 'subtype_code'], how='left')\n",
    "matrix['date_shop_subtype_avg_item_cnt'] = matrix['date_shop_subtype_avg_item_cnt'].astype(np.float16)\n",
    "matrix = lag_feature(matrix, [1], 'date_shop_subtype_avg_item_cnt')\n",
    "matrix.drop(['date_shop_subtype_avg_item_cnt'], axis=1, inplace=True)\n",
    "time.time() - ts"
   ]
  },
  {
   "cell_type": "markdown",
   "metadata": {},
   "source": [
    "```\n",
    "新增一個欄位代表上個月該城市中物品的平均銷售量\n",
    "```"
   ]
  },
  {
   "cell_type": "code",
   "execution_count": 24,
   "metadata": {},
   "outputs": [
    {
     "data": {
      "text/plain": [
       "15.810953855514526"
      ]
     },
     "execution_count": 24,
     "metadata": {},
     "output_type": "execute_result"
    }
   ],
   "source": [
    "ts = time.time()\n",
    "group = matrix.groupby(['date_block_num', 'city_code']).agg({'item_cnt_month': ['mean']})\n",
    "group.columns = [ 'date_city_avg_item_cnt' ]\n",
    "group.reset_index(inplace=True)\n",
    "\n",
    "matrix = pd.merge(matrix, group, on=['date_block_num', 'city_code'], how='left')\n",
    "matrix['date_city_avg_item_cnt'] = matrix['date_city_avg_item_cnt'].astype(np.float16)\n",
    "matrix = lag_feature(matrix, [1], 'date_city_avg_item_cnt')\n",
    "matrix.drop(['date_city_avg_item_cnt'], axis=1, inplace=True)\n",
    "time.time() - ts"
   ]
  },
  {
   "cell_type": "markdown",
   "metadata": {},
   "source": [
    "```\n",
    "新增一個欄位代表上個月該城市中某物品的平均銷售量\n",
    "```"
   ]
  },
  {
   "cell_type": "code",
   "execution_count": 25,
   "metadata": {},
   "outputs": [
    {
     "data": {
      "text/plain": [
       "23.433680772781372"
      ]
     },
     "execution_count": 25,
     "metadata": {},
     "output_type": "execute_result"
    }
   ],
   "source": [
    "ts = time.time()\n",
    "group = matrix.groupby(['date_block_num', 'item_id', 'city_code']).agg({'item_cnt_month': ['mean']})\n",
    "group.columns = [ 'date_item_city_avg_item_cnt' ]\n",
    "group.reset_index(inplace=True)\n",
    "\n",
    "matrix = pd.merge(matrix, group, on=['date_block_num', 'item_id', 'city_code'], how='left')\n",
    "matrix['date_item_city_avg_item_cnt'] = matrix['date_item_city_avg_item_cnt'].astype(np.float16)\n",
    "matrix = lag_feature(matrix, [1], 'date_item_city_avg_item_cnt')\n",
    "matrix.drop(['date_item_city_avg_item_cnt'], axis=1, inplace=True)\n",
    "time.time() - ts"
   ]
  },
  {
   "cell_type": "code",
   "execution_count": 26,
   "metadata": {},
   "outputs": [
    {
     "data": {
      "text/plain": [
       "16.069359064102173"
      ]
     },
     "execution_count": 26,
     "metadata": {},
     "output_type": "execute_result"
    }
   ],
   "source": [
    "ts = time.time()\n",
    "group = matrix.groupby(['date_block_num', 'type_code']).agg({'item_cnt_month': ['mean']})\n",
    "group.columns = [ 'date_type_avg_item_cnt' ]\n",
    "group.reset_index(inplace=True)\n",
    "\n",
    "matrix = pd.merge(matrix, group, on=['date_block_num', 'type_code'], how='left')\n",
    "matrix['date_type_avg_item_cnt'] = matrix['date_type_avg_item_cnt'].astype(np.float16)\n",
    "matrix = lag_feature(matrix, [1], 'date_type_avg_item_cnt')\n",
    "matrix.drop(['date_type_avg_item_cnt'], axis=1, inplace=True)\n",
    "time.time() - ts"
   ]
  },
  {
   "cell_type": "code",
   "execution_count": 27,
   "metadata": {},
   "outputs": [
    {
     "data": {
      "text/plain": [
       "16.825735807418823"
      ]
     },
     "execution_count": 27,
     "metadata": {},
     "output_type": "execute_result"
    }
   ],
   "source": [
    "ts = time.time()\n",
    "group = matrix.groupby(['date_block_num', 'subtype_code']).agg({'item_cnt_month': ['mean']})\n",
    "group.columns = [ 'date_subtype_avg_item_cnt' ]\n",
    "group.reset_index(inplace=True)\n",
    "\n",
    "matrix = pd.merge(matrix, group, on=['date_block_num', 'subtype_code'], how='left')\n",
    "matrix['date_subtype_avg_item_cnt'] = matrix['date_subtype_avg_item_cnt'].astype(np.float16)\n",
    "matrix = lag_feature(matrix, [1], 'date_subtype_avg_item_cnt')\n",
    "matrix.drop(['date_subtype_avg_item_cnt'], axis=1, inplace=True)\n",
    "time.time() - ts"
   ]
  },
  {
   "cell_type": "code",
   "execution_count": 28,
   "metadata": {},
   "outputs": [
    {
     "data": {
      "text/plain": [
       "328.17624497413635"
      ]
     },
     "execution_count": 28,
     "metadata": {},
     "output_type": "execute_result"
    }
   ],
   "source": [
    "ts = time.time()\n",
    "########### 算出每件商品的平均價格 ##############\n",
    "group = train.groupby(['item_id']).agg({'item_price': ['mean']})\n",
    "group.columns = ['item_avg_item_price']\n",
    "group.reset_index(inplace=True)\n",
    "\n",
    "matrix = pd.merge(matrix, group, on=['item_id'], how='left')\n",
    "matrix['item_avg_item_price'] = matrix['item_avg_item_price'].astype(np.float16)\n",
    "##############################################\n",
    "\n",
    "######## 算出同個月內每件商品的平均價格 ###########\n",
    "group = train.groupby(['date_block_num','item_id']).agg({'item_price': ['mean']})\n",
    "group.columns = ['date_item_avg_item_price']\n",
    "group.reset_index(inplace=True)\n",
    "\n",
    "matrix = pd.merge(matrix, group, on=['date_block_num','item_id'], how='left')\n",
    "matrix['date_item_avg_item_price'] = matrix['date_item_avg_item_price'].astype(np.float16)\n",
    "##############################################\n",
    "\n",
    "########## 新增上 1,2,3,4,5,6 個月各項商品的平均價格 ####### \n",
    "lags = [1,2,3,4,5,6]\n",
    "matrix = lag_feature(matrix, lags, 'date_item_avg_item_price')\n",
    "#######################################################\n",
    "\n",
    "#### 計算前幾個月商品的平均價格跟商品一直以來的平均價格的價差 ########\n",
    "for i in lags:\n",
    "    matrix['delta_price_lag_'+str(i)] = \\\n",
    "        (matrix['date_item_avg_item_price_lag_'+str(i)] - matrix['item_avg_item_price']) / matrix['item_avg_item_price']\n",
    "\n",
    "def select_trend(row):\n",
    "    for i in lags:\n",
    "        if row['delta_price_lag_'+str(i)]:\n",
    "            return row['delta_price_lag_'+str(i)]\n",
    "    return 0\n",
    "    \n",
    "#####################################################\n",
    "matrix['delta_price_lag'] = matrix.apply(select_trend, axis=1)\n",
    "matrix['delta_price_lag'] = matrix['delta_price_lag'].astype(np.float16)\n",
    "matrix['delta_price_lag'].fillna(0, inplace=True)\n",
    "\n",
    "# https://stackoverflow.com/questions/31828240/first-non-null-value-per-row-from-a-list-of-pandas-columns/31828559\n",
    "# matrix['price_trend'] = matrix[['delta_price_lag_1','delta_price_lag_2','delta_price_lag_3']].bfill(axis=1).iloc[:, 0]\n",
    "# Invalid dtype for backfill_2d [float16]\n",
    "\n",
    "fetures_to_drop = ['item_avg_item_price', 'date_item_avg_item_price']\n",
    "for i in lags:\n",
    "    fetures_to_drop += ['date_item_avg_item_price_lag_'+str(i)]\n",
    "    fetures_to_drop += ['delta_price_lag_'+str(i)]\n",
    "\n",
    "matrix.drop(fetures_to_drop, axis=1, inplace=True)\n",
    "\n",
    "time.time() - ts"
   ]
  },
  {
   "cell_type": "code",
   "execution_count": 29,
   "metadata": {},
   "outputs": [
    {
     "data": {
      "text/plain": [
       "19.56959295272827"
      ]
     },
     "execution_count": 29,
     "metadata": {},
     "output_type": "execute_result"
    }
   ],
   "source": [
    "ts = time.time()\n",
    "group = train.groupby(['date_block_num','shop_id']).agg({'revenue': ['sum']})\n",
    "group.columns = ['date_shop_revenue']\n",
    "group.reset_index(inplace=True)\n",
    "\n",
    "matrix = pd.merge(matrix, group, on=['date_block_num','shop_id'], how='left')\n",
    "matrix['date_shop_revenue'] = matrix['date_shop_revenue'].astype(np.float32)\n",
    "\n",
    "group = group.groupby(['shop_id']).agg({'date_shop_revenue': ['mean']})\n",
    "group.columns = ['shop_avg_revenue']\n",
    "group.reset_index(inplace=True)\n",
    "\n",
    "matrix = pd.merge(matrix, group, on=['shop_id'], how='left')\n",
    "matrix['shop_avg_revenue'] = matrix['shop_avg_revenue'].astype(np.float32)\n",
    "\n",
    "matrix['delta_revenue'] = (matrix['date_shop_revenue'] - matrix['shop_avg_revenue']) / matrix['shop_avg_revenue']\n",
    "matrix['delta_revenue'] = matrix['delta_revenue'].astype(np.float16)\n",
    "\n",
    "matrix = lag_feature(matrix, [1], 'delta_revenue')\n",
    "\n",
    "matrix.drop(['date_shop_revenue','shop_avg_revenue','delta_revenue'], axis=1, inplace=True)\n",
    "time.time() - ts"
   ]
  },
  {
   "cell_type": "markdown",
   "metadata": {},
   "source": [
    "```\n",
    "新增每個 row 是代表哪個月、有幾天\n",
    "```"
   ]
  },
  {
   "cell_type": "code",
   "execution_count": 33,
   "metadata": {},
   "outputs": [],
   "source": [
    "matrix['month'] = matrix['date_block_num'] % 12"
   ]
  },
  {
   "cell_type": "code",
   "execution_count": 34,
   "metadata": {},
   "outputs": [],
   "source": [
    "days = pd.Series([31,28,31,30,31,30,31,31,30,31,30,31])\n",
    "matrix['days'] = matrix['month'].map(days).astype(np.int8)"
   ]
  },
  {
   "cell_type": "markdown",
   "metadata": {},
   "source": [
    "```\n",
    "計算某商店中的商品最後一次被買距離上一次被買過了幾個月\n",
    "小技巧：Hashtable\n",
    "```"
   ]
  },
  {
   "cell_type": "code",
   "execution_count": 35,
   "metadata": {},
   "outputs": [
    {
     "data": {
      "text/plain": [
       "1436.4019820690155"
      ]
     },
     "execution_count": 35,
     "metadata": {},
     "output_type": "execute_result"
    }
   ],
   "source": [
    "ts = time.time()\n",
    "cache = {}\n",
    "matrix['item_shop_last_sale'] = -1\n",
    "matrix['item_shop_last_sale'] = matrix['item_shop_last_sale'].astype(np.int8)\n",
    "for idx, row in matrix.iterrows():    \n",
    "    key = str(row.item_id)+' '+str(row.shop_id)\n",
    "    if key not in cache:\n",
    "        if row.item_cnt_month!=0:\n",
    "            cache[key] = row.date_block_num\n",
    "    else:\n",
    "        last_date_block_num = cache[key]\n",
    "        matrix.at[idx, 'item_shop_last_sale'] = row.date_block_num - last_date_block_num\n",
    "        cache[key] = row.date_block_num         \n",
    "time.time() - ts"
   ]
  },
  {
   "cell_type": "code",
   "execution_count": 36,
   "metadata": {},
   "outputs": [
    {
     "data": {
      "text/plain": [
       "916.6287770271301"
      ]
     },
     "execution_count": 36,
     "metadata": {},
     "output_type": "execute_result"
    }
   ],
   "source": [
    "ts = time.time()\n",
    "cache = {}\n",
    "matrix['item_last_sale'] = -1\n",
    "matrix['item_last_sale'] = matrix['item_last_sale'].astype(np.int8)\n",
    "for idx, row in matrix.iterrows():    \n",
    "    key = row.item_id\n",
    "    if key not in cache:\n",
    "        if row.item_cnt_month!=0:\n",
    "            cache[key] = row.date_block_num\n",
    "    else:\n",
    "        last_date_block_num = cache[key]\n",
    "        if row.date_block_num>last_date_block_num:\n",
    "            matrix.at[idx, 'item_last_sale'] = row.date_block_num - last_date_block_num\n",
    "            cache[key] = row.date_block_num         \n",
    "time.time() - ts"
   ]
  },
  {
   "cell_type": "markdown",
   "metadata": {},
   "source": [
    "```\n",
    "計算某商店中的商品被買時距離第一次被買過了幾個月\n",
    "小技巧：groupby 之後使用 aggregate\n",
    "```"
   ]
  },
  {
   "cell_type": "code",
   "execution_count": 37,
   "metadata": {},
   "outputs": [
    {
     "data": {
      "text/plain": [
       "1.9454848766326904"
      ]
     },
     "execution_count": 37,
     "metadata": {},
     "output_type": "execute_result"
    }
   ],
   "source": [
    "ts = time.time()\n",
    "matrix['item_shop_first_sale'] = matrix['date_block_num'] - matrix.groupby(['item_id','shop_id'])['date_block_num'].transform('min')\n",
    "matrix['item_first_sale'] = matrix['date_block_num'] - matrix.groupby('item_id')['date_block_num'].transform('min')\n",
    "time.time() - ts"
   ]
  },
  {
   "cell_type": "markdown",
   "metadata": {},
   "source": [
    "```\n",
    "因為用很多幾個月前的資料 (最多到前 12 個月) 代表前 12 個月的資料很多都是空的，因此要 drop 掉\n",
    "```"
   ]
  },
  {
   "cell_type": "code",
   "execution_count": 38,
   "metadata": {},
   "outputs": [
    {
     "data": {
      "text/plain": [
       "1.2080228328704834"
      ]
     },
     "execution_count": 38,
     "metadata": {},
     "output_type": "execute_result"
    }
   ],
   "source": [
    "ts = time.time()\n",
    "matrix = matrix[matrix.date_block_num > 11]\n",
    "time.time() - ts"
   ]
  },
  {
   "cell_type": "code",
   "execution_count": 39,
   "metadata": {},
   "outputs": [
    {
     "data": {
      "text/plain": [
       "4.910508871078491"
      ]
     },
     "execution_count": 39,
     "metadata": {},
     "output_type": "execute_result"
    }
   ],
   "source": [
    "ts = time.time()\n",
    "def fill_na(df):\n",
    "    for col in df.columns:\n",
    "        if ('_lag_' in col) & (df[col].isnull().any()):\n",
    "            if ('item_cnt' in col):\n",
    "                df[col].fillna(0, inplace=True)         \n",
    "    return df\n",
    "\n",
    "matrix = fill_na(matrix)\n",
    "time.time() - ts"
   ]
  },
  {
   "cell_type": "code",
   "execution_count": 40,
   "metadata": {},
   "outputs": [
    {
     "data": {
      "text/plain": [
       "Index(['date_block_num', 'shop_id', 'item_id', 'item_cnt_month', 'city_code',\n",
       "       'item_category_id', 'type_code', 'subtype_code', 'item_cnt_month_lag_1',\n",
       "       'item_cnt_month_lag_2', 'item_cnt_month_lag_3', 'item_cnt_month_lag_6',\n",
       "       'item_cnt_month_lag_12', 'date_avg_item_cnt_lag_1',\n",
       "       'date_item_avg_item_cnt_lag_1', 'date_item_avg_item_cnt_lag_2',\n",
       "       'date_item_avg_item_cnt_lag_3', 'date_item_avg_item_cnt_lag_6',\n",
       "       'date_item_avg_item_cnt_lag_12', 'date_shop_avg_item_cnt_lag_1',\n",
       "       'date_shop_avg_item_cnt_lag_2', 'date_shop_avg_item_cnt_lag_3',\n",
       "       'date_shop_avg_item_cnt_lag_6', 'date_shop_avg_item_cnt_lag_12',\n",
       "       'date_cat_avg_item_cnt_lag_1', 'date_shop_cat_avg_item_cnt_lag_1',\n",
       "       'date_shop_type_avg_item_cnt_lag_1',\n",
       "       'date_shop_subtype_avg_item_cnt_lag_1', 'date_city_avg_item_cnt_lag_1',\n",
       "       'date_item_city_avg_item_cnt_lag_1', 'date_type_avg_item_cnt_lag_1',\n",
       "       'date_subtype_avg_item_cnt_lag_1', 'delta_price_lag',\n",
       "       'delta_revenue_lag_1', 'month', 'days', 'item_shop_last_sale',\n",
       "       'item_last_sale', 'item_shop_first_sale', 'item_first_sale'],\n",
       "      dtype='object')"
      ]
     },
     "execution_count": 40,
     "metadata": {},
     "output_type": "execute_result"
    }
   ],
   "source": [
    "matrix.columns"
   ]
  },
  {
   "cell_type": "code",
   "execution_count": 41,
   "metadata": {},
   "outputs": [
    {
     "name": "stdout",
     "output_type": "stream",
     "text": [
      "<class 'pandas.core.frame.DataFrame'>\n",
      "Int64Index: 6639294 entries, 4488710 to 11128003\n",
      "Data columns (total 40 columns):\n",
      "date_block_num                          int8\n",
      "shop_id                                 int8\n",
      "item_id                                 int16\n",
      "item_cnt_month                          float16\n",
      "city_code                               int8\n",
      "item_category_id                        int8\n",
      "type_code                               int8\n",
      "subtype_code                            int8\n",
      "item_cnt_month_lag_1                    float16\n",
      "item_cnt_month_lag_2                    float16\n",
      "item_cnt_month_lag_3                    float16\n",
      "item_cnt_month_lag_6                    float16\n",
      "item_cnt_month_lag_12                   float16\n",
      "date_avg_item_cnt_lag_1                 float16\n",
      "date_item_avg_item_cnt_lag_1            float16\n",
      "date_item_avg_item_cnt_lag_2            float16\n",
      "date_item_avg_item_cnt_lag_3            float16\n",
      "date_item_avg_item_cnt_lag_6            float16\n",
      "date_item_avg_item_cnt_lag_12           float16\n",
      "date_shop_avg_item_cnt_lag_1            float16\n",
      "date_shop_avg_item_cnt_lag_2            float16\n",
      "date_shop_avg_item_cnt_lag_3            float16\n",
      "date_shop_avg_item_cnt_lag_6            float16\n",
      "date_shop_avg_item_cnt_lag_12           float16\n",
      "date_cat_avg_item_cnt_lag_1             float16\n",
      "date_shop_cat_avg_item_cnt_lag_1        float16\n",
      "date_shop_type_avg_item_cnt_lag_1       float16\n",
      "date_shop_subtype_avg_item_cnt_lag_1    float16\n",
      "date_city_avg_item_cnt_lag_1            float16\n",
      "date_item_city_avg_item_cnt_lag_1       float16\n",
      "date_type_avg_item_cnt_lag_1            float16\n",
      "date_subtype_avg_item_cnt_lag_1         float16\n",
      "delta_price_lag                         float16\n",
      "delta_revenue_lag_1                     float16\n",
      "month                                   int8\n",
      "days                                    int8\n",
      "item_shop_last_sale                     int8\n",
      "item_last_sale                          int8\n",
      "item_shop_first_sale                    int8\n",
      "item_first_sale                         int8\n",
      "dtypes: float16(27), int16(1), int8(12)\n",
      "memory usage: 481.2 MB\n"
     ]
    }
   ],
   "source": [
    "matrix.info()"
   ]
  },
  {
   "cell_type": "code",
   "execution_count": 42,
   "metadata": {},
   "outputs": [],
   "source": [
    "matrix.to_pickle('data.pkl')\n",
    "del matrix\n",
    "del cache\n",
    "del group\n",
    "del items\n",
    "del shops\n",
    "del cats\n",
    "del train\n",
    "# leave test for submission\n",
    "gc.collect();"
   ]
  },
  {
   "cell_type": "code",
   "execution_count": 4,
   "metadata": {},
   "outputs": [],
   "source": [
    "data = pd.read_pickle('data.pkl')"
   ]
  },
  {
   "cell_type": "code",
   "execution_count": 5,
   "metadata": {},
   "outputs": [],
   "source": [
    "data = data[[\n",
    "    'date_block_num',\n",
    "    'shop_id',\n",
    "    'item_id',\n",
    "    'item_cnt_month',\n",
    "    'city_code',\n",
    "    'item_category_id',\n",
    "    'type_code',\n",
    "    'subtype_code',\n",
    "    'item_cnt_month_lag_1',\n",
    "    'item_cnt_month_lag_2',\n",
    "    'item_cnt_month_lag_3',\n",
    "    'item_cnt_month_lag_6',\n",
    "    'item_cnt_month_lag_12',\n",
    "#     'date_avg_item_cnt_lag_1',\n",
    "#     'date_item_avg_item_cnt_lag_1',\n",
    "#     'date_item_avg_item_cnt_lag_2',\n",
    "#     'date_item_avg_item_cnt_lag_3',\n",
    "#     'date_item_avg_item_cnt_lag_6',\n",
    "#     'date_item_avg_item_cnt_lag_12',\n",
    "#     'date_shop_avg_item_cnt_lag_1',\n",
    "#     'date_shop_avg_item_cnt_lag_2',\n",
    "#     'date_shop_avg_item_cnt_lag_3',\n",
    "#     'date_shop_avg_item_cnt_lag_6',\n",
    "#     'date_shop_avg_item_cnt_lag_12',\n",
    "#     'date_cat_avg_item_cnt_lag_1',\n",
    "#     'date_shop_cat_avg_item_cnt_lag_1',\n",
    "#     'date_shop_type_avg_item_cnt_lag_1',\n",
    "#     'date_shop_subtype_avg_item_cnt_lag_1',\n",
    "#     'date_city_avg_item_cnt_lag_1',\n",
    "#     'date_item_city_avg_item_cnt_lag_1',\n",
    "#     'date_type_avg_item_cnt_lag_1',\n",
    "#     'date_subtype_avg_item_cnt_lag_1',\n",
    "    'delta_price_lag',\n",
    "    'month',\n",
    "    'days',\n",
    "    'item_shop_last_sale',\n",
    "    'item_last_sale',\n",
    "    'item_shop_first_sale',\n",
    "    'item_first_sale',\n",
    "]]"
   ]
  },
  {
   "cell_type": "code",
   "execution_count": 7,
   "metadata": {},
   "outputs": [
    {
     "data": {
      "text/html": [
       "<div>\n",
       "<style scoped>\n",
       "    .dataframe tbody tr th:only-of-type {\n",
       "        vertical-align: middle;\n",
       "    }\n",
       "\n",
       "    .dataframe tbody tr th {\n",
       "        vertical-align: top;\n",
       "    }\n",
       "\n",
       "    .dataframe thead th {\n",
       "        text-align: right;\n",
       "    }\n",
       "</style>\n",
       "<table border=\"1\" class=\"dataframe\">\n",
       "  <thead>\n",
       "    <tr style=\"text-align: right;\">\n",
       "      <th></th>\n",
       "      <th>date_block_num</th>\n",
       "      <th>shop_id</th>\n",
       "      <th>item_id</th>\n",
       "      <th>item_cnt_month</th>\n",
       "      <th>city_code</th>\n",
       "      <th>item_category_id</th>\n",
       "      <th>type_code</th>\n",
       "      <th>subtype_code</th>\n",
       "      <th>item_cnt_month_lag_1</th>\n",
       "      <th>item_cnt_month_lag_2</th>\n",
       "      <th>item_cnt_month_lag_3</th>\n",
       "      <th>item_cnt_month_lag_6</th>\n",
       "      <th>item_cnt_month_lag_12</th>\n",
       "      <th>delta_price_lag</th>\n",
       "      <th>month</th>\n",
       "      <th>days</th>\n",
       "      <th>item_shop_last_sale</th>\n",
       "      <th>item_last_sale</th>\n",
       "      <th>item_shop_first_sale</th>\n",
       "      <th>item_first_sale</th>\n",
       "    </tr>\n",
       "  </thead>\n",
       "  <tbody>\n",
       "    <tr>\n",
       "      <th>4488710</th>\n",
       "      <td>12</td>\n",
       "      <td>2</td>\n",
       "      <td>27</td>\n",
       "      <td>0.0</td>\n",
       "      <td>0</td>\n",
       "      <td>19</td>\n",
       "      <td>5</td>\n",
       "      <td>10</td>\n",
       "      <td>0.0</td>\n",
       "      <td>0.0</td>\n",
       "      <td>0.0</td>\n",
       "      <td>0.0</td>\n",
       "      <td>1.0</td>\n",
       "      <td>-0.282715</td>\n",
       "      <td>0</td>\n",
       "      <td>31</td>\n",
       "      <td>1</td>\n",
       "      <td>1</td>\n",
       "      <td>12</td>\n",
       "      <td>12</td>\n",
       "    </tr>\n",
       "    <tr>\n",
       "      <th>4488711</th>\n",
       "      <td>12</td>\n",
       "      <td>2</td>\n",
       "      <td>30</td>\n",
       "      <td>0.0</td>\n",
       "      <td>0</td>\n",
       "      <td>40</td>\n",
       "      <td>11</td>\n",
       "      <td>4</td>\n",
       "      <td>0.0</td>\n",
       "      <td>0.0</td>\n",
       "      <td>0.0</td>\n",
       "      <td>0.0</td>\n",
       "      <td>0.0</td>\n",
       "      <td>-0.483398</td>\n",
       "      <td>0</td>\n",
       "      <td>31</td>\n",
       "      <td>1</td>\n",
       "      <td>1</td>\n",
       "      <td>11</td>\n",
       "      <td>11</td>\n",
       "    </tr>\n",
       "    <tr>\n",
       "      <th>4488712</th>\n",
       "      <td>12</td>\n",
       "      <td>2</td>\n",
       "      <td>31</td>\n",
       "      <td>0.0</td>\n",
       "      <td>0</td>\n",
       "      <td>37</td>\n",
       "      <td>11</td>\n",
       "      <td>1</td>\n",
       "      <td>0.0</td>\n",
       "      <td>0.0</td>\n",
       "      <td>0.0</td>\n",
       "      <td>0.0</td>\n",
       "      <td>0.0</td>\n",
       "      <td>-0.137451</td>\n",
       "      <td>0</td>\n",
       "      <td>31</td>\n",
       "      <td>1</td>\n",
       "      <td>1</td>\n",
       "      <td>11</td>\n",
       "      <td>11</td>\n",
       "    </tr>\n",
       "    <tr>\n",
       "      <th>4488713</th>\n",
       "      <td>12</td>\n",
       "      <td>2</td>\n",
       "      <td>32</td>\n",
       "      <td>1.0</td>\n",
       "      <td>0</td>\n",
       "      <td>40</td>\n",
       "      <td>11</td>\n",
       "      <td>4</td>\n",
       "      <td>0.0</td>\n",
       "      <td>0.0</td>\n",
       "      <td>0.0</td>\n",
       "      <td>0.0</td>\n",
       "      <td>0.0</td>\n",
       "      <td>-0.407227</td>\n",
       "      <td>0</td>\n",
       "      <td>31</td>\n",
       "      <td>-1</td>\n",
       "      <td>1</td>\n",
       "      <td>12</td>\n",
       "      <td>12</td>\n",
       "    </tr>\n",
       "    <tr>\n",
       "      <th>4488714</th>\n",
       "      <td>12</td>\n",
       "      <td>2</td>\n",
       "      <td>33</td>\n",
       "      <td>1.0</td>\n",
       "      <td>0</td>\n",
       "      <td>37</td>\n",
       "      <td>11</td>\n",
       "      <td>1</td>\n",
       "      <td>1.0</td>\n",
       "      <td>2.0</td>\n",
       "      <td>0.0</td>\n",
       "      <td>0.0</td>\n",
       "      <td>1.0</td>\n",
       "      <td>-0.225464</td>\n",
       "      <td>0</td>\n",
       "      <td>31</td>\n",
       "      <td>1</td>\n",
       "      <td>1</td>\n",
       "      <td>12</td>\n",
       "      <td>12</td>\n",
       "    </tr>\n",
       "  </tbody>\n",
       "</table>\n",
       "</div>"
      ],
      "text/plain": [
       "         date_block_num  shop_id  item_id  item_cnt_month  city_code  \\\n",
       "4488710              12        2       27             0.0          0   \n",
       "4488711              12        2       30             0.0          0   \n",
       "4488712              12        2       31             0.0          0   \n",
       "4488713              12        2       32             1.0          0   \n",
       "4488714              12        2       33             1.0          0   \n",
       "\n",
       "         item_category_id  type_code  subtype_code  item_cnt_month_lag_1  \\\n",
       "4488710                19          5            10                   0.0   \n",
       "4488711                40         11             4                   0.0   \n",
       "4488712                37         11             1                   0.0   \n",
       "4488713                40         11             4                   0.0   \n",
       "4488714                37         11             1                   1.0   \n",
       "\n",
       "         item_cnt_month_lag_2  item_cnt_month_lag_3  item_cnt_month_lag_6  \\\n",
       "4488710                   0.0                   0.0                   0.0   \n",
       "4488711                   0.0                   0.0                   0.0   \n",
       "4488712                   0.0                   0.0                   0.0   \n",
       "4488713                   0.0                   0.0                   0.0   \n",
       "4488714                   2.0                   0.0                   0.0   \n",
       "\n",
       "         item_cnt_month_lag_12  delta_price_lag  month  days  \\\n",
       "4488710                    1.0        -0.282715      0    31   \n",
       "4488711                    0.0        -0.483398      0    31   \n",
       "4488712                    0.0        -0.137451      0    31   \n",
       "4488713                    0.0        -0.407227      0    31   \n",
       "4488714                    1.0        -0.225464      0    31   \n",
       "\n",
       "         item_shop_last_sale  item_last_sale  item_shop_first_sale  \\\n",
       "4488710                    1               1                    12   \n",
       "4488711                    1               1                    11   \n",
       "4488712                    1               1                    11   \n",
       "4488713                   -1               1                    12   \n",
       "4488714                    1               1                    12   \n",
       "\n",
       "         item_first_sale  \n",
       "4488710               12  \n",
       "4488711               11  \n",
       "4488712               11  \n",
       "4488713               12  \n",
       "4488714               12  "
      ]
     },
     "execution_count": 7,
     "metadata": {},
     "output_type": "execute_result"
    }
   ],
   "source": [
    "data.head()"
   ]
  },
  {
   "cell_type": "code",
   "execution_count": 6,
   "metadata": {},
   "outputs": [],
   "source": [
    "X_train = data[data.date_block_num < 33].drop(['item_cnt_month'], axis=1)\n",
    "Y_train = data[data.date_block_num < 33]['item_cnt_month']\n",
    "X_valid = data[data.date_block_num == 33].drop(['item_cnt_month'], axis=1)\n",
    "Y_valid = data[data.date_block_num == 33]['item_cnt_month']\n",
    "X_test = data[data.date_block_num == 34].drop(['item_cnt_month'], axis=1)"
   ]
  },
  {
   "cell_type": "code",
   "execution_count": 86,
   "metadata": {},
   "outputs": [],
   "source": [
    "del data\n",
    "gc.collect();"
   ]
  },
  {
   "cell_type": "code",
   "execution_count": 10,
   "metadata": {
    "scrolled": false
   },
   "outputs": [
    {
     "name": "stdout",
     "output_type": "stream",
     "text": [
      "[0]\tvalidation_0-rmse:1.15236\tvalidation_1-rmse:1.11931\n",
      "Multiple eval metrics have been passed: 'validation_1-rmse' will be used for early stopping.\n",
      "\n",
      "Will train until validation_1-rmse hasn't improved in 10 rounds.\n",
      "[1]\tvalidation_0-rmse:1.11702\tvalidation_1-rmse:1.09099\n",
      "[2]\tvalidation_0-rmse:1.0731\tvalidation_1-rmse:1.05847\n",
      "[3]\tvalidation_0-rmse:1.04113\tvalidation_1-rmse:1.03225\n",
      "[4]\tvalidation_0-rmse:1.01246\tvalidation_1-rmse:1.01021\n",
      "[5]\tvalidation_0-rmse:0.986389\tvalidation_1-rmse:0.991956\n",
      "[6]\tvalidation_0-rmse:0.964633\tvalidation_1-rmse:0.977407\n",
      "[7]\tvalidation_0-rmse:0.951032\tvalidation_1-rmse:0.967113\n",
      "[8]\tvalidation_0-rmse:0.938791\tvalidation_1-rmse:0.958452\n",
      "[9]\tvalidation_0-rmse:0.925378\tvalidation_1-rmse:0.949198\n",
      "[10]\tvalidation_0-rmse:0.914199\tvalidation_1-rmse:0.94308\n",
      "[11]\tvalidation_0-rmse:0.903538\tvalidation_1-rmse:0.937356\n",
      "[12]\tvalidation_0-rmse:0.895839\tvalidation_1-rmse:0.93375\n",
      "[13]\tvalidation_0-rmse:0.889293\tvalidation_1-rmse:0.930265\n",
      "[14]\tvalidation_0-rmse:0.882955\tvalidation_1-rmse:0.92756\n",
      "[15]\tvalidation_0-rmse:0.877346\tvalidation_1-rmse:0.925264\n",
      "[16]\tvalidation_0-rmse:0.87368\tvalidation_1-rmse:0.923615\n",
      "[17]\tvalidation_0-rmse:0.870237\tvalidation_1-rmse:0.921805\n",
      "[18]\tvalidation_0-rmse:0.867237\tvalidation_1-rmse:0.920193\n",
      "[19]\tvalidation_0-rmse:0.864162\tvalidation_1-rmse:0.91962\n",
      "[20]\tvalidation_0-rmse:0.861783\tvalidation_1-rmse:0.918362\n",
      "[21]\tvalidation_0-rmse:0.859166\tvalidation_1-rmse:0.916936\n",
      "[22]\tvalidation_0-rmse:0.856744\tvalidation_1-rmse:0.915706\n",
      "[23]\tvalidation_0-rmse:0.854649\tvalidation_1-rmse:0.914527\n",
      "[24]\tvalidation_0-rmse:0.852998\tvalidation_1-rmse:0.91387\n",
      "[25]\tvalidation_0-rmse:0.851542\tvalidation_1-rmse:0.913259\n",
      "[26]\tvalidation_0-rmse:0.85008\tvalidation_1-rmse:0.912727\n",
      "[27]\tvalidation_0-rmse:0.84873\tvalidation_1-rmse:0.912837\n",
      "[28]\tvalidation_0-rmse:0.847366\tvalidation_1-rmse:0.913536\n",
      "[29]\tvalidation_0-rmse:0.846534\tvalidation_1-rmse:0.913482\n",
      "[30]\tvalidation_0-rmse:0.845797\tvalidation_1-rmse:0.91359\n",
      "[31]\tvalidation_0-rmse:0.844808\tvalidation_1-rmse:0.912014\n",
      "[32]\tvalidation_0-rmse:0.843695\tvalidation_1-rmse:0.912587\n",
      "[33]\tvalidation_0-rmse:0.84282\tvalidation_1-rmse:0.911908\n",
      "[34]\tvalidation_0-rmse:0.842244\tvalidation_1-rmse:0.911214\n",
      "[35]\tvalidation_0-rmse:0.841313\tvalidation_1-rmse:0.9108\n",
      "[36]\tvalidation_0-rmse:0.840754\tvalidation_1-rmse:0.910739\n",
      "[37]\tvalidation_0-rmse:0.840256\tvalidation_1-rmse:0.910655\n",
      "[38]\tvalidation_0-rmse:0.83967\tvalidation_1-rmse:0.910297\n",
      "[39]\tvalidation_0-rmse:0.838999\tvalidation_1-rmse:0.910506\n",
      "[40]\tvalidation_0-rmse:0.838105\tvalidation_1-rmse:0.910007\n",
      "[41]\tvalidation_0-rmse:0.837777\tvalidation_1-rmse:0.909904\n",
      "[42]\tvalidation_0-rmse:0.837324\tvalidation_1-rmse:0.909461\n",
      "[43]\tvalidation_0-rmse:0.836814\tvalidation_1-rmse:0.909397\n",
      "[44]\tvalidation_0-rmse:0.836274\tvalidation_1-rmse:0.908288\n",
      "[45]\tvalidation_0-rmse:0.835269\tvalidation_1-rmse:0.908094\n",
      "[46]\tvalidation_0-rmse:0.834928\tvalidation_1-rmse:0.908013\n",
      "[47]\tvalidation_0-rmse:0.834477\tvalidation_1-rmse:0.907703\n",
      "[48]\tvalidation_0-rmse:0.833733\tvalidation_1-rmse:0.907526\n",
      "[49]\tvalidation_0-rmse:0.833133\tvalidation_1-rmse:0.906544\n",
      "[50]\tvalidation_0-rmse:0.832306\tvalidation_1-rmse:0.906649\n",
      "[51]\tvalidation_0-rmse:0.832135\tvalidation_1-rmse:0.906597\n",
      "[52]\tvalidation_0-rmse:0.831532\tvalidation_1-rmse:0.904843\n",
      "[53]\tvalidation_0-rmse:0.831152\tvalidation_1-rmse:0.904825\n",
      "[54]\tvalidation_0-rmse:0.830764\tvalidation_1-rmse:0.904817\n",
      "[55]\tvalidation_0-rmse:0.830368\tvalidation_1-rmse:0.904813\n",
      "[56]\tvalidation_0-rmse:0.829762\tvalidation_1-rmse:0.903796\n",
      "[57]\tvalidation_0-rmse:0.829269\tvalidation_1-rmse:0.903497\n",
      "[58]\tvalidation_0-rmse:0.828747\tvalidation_1-rmse:0.903785\n",
      "[59]\tvalidation_0-rmse:0.827439\tvalidation_1-rmse:0.905224\n",
      "[60]\tvalidation_0-rmse:0.826989\tvalidation_1-rmse:0.904762\n",
      "[61]\tvalidation_0-rmse:0.82673\tvalidation_1-rmse:0.904755\n",
      "[62]\tvalidation_0-rmse:0.826311\tvalidation_1-rmse:0.904657\n",
      "[63]\tvalidation_0-rmse:0.825979\tvalidation_1-rmse:0.904561\n",
      "[64]\tvalidation_0-rmse:0.825453\tvalidation_1-rmse:0.904171\n",
      "[65]\tvalidation_0-rmse:0.825238\tvalidation_1-rmse:0.904083\n",
      "[66]\tvalidation_0-rmse:0.824902\tvalidation_1-rmse:0.90382\n",
      "[67]\tvalidation_0-rmse:0.82389\tvalidation_1-rmse:0.903366\n",
      "[68]\tvalidation_0-rmse:0.823336\tvalidation_1-rmse:0.903144\n",
      "[69]\tvalidation_0-rmse:0.822743\tvalidation_1-rmse:0.902982\n",
      "[70]\tvalidation_0-rmse:0.822044\tvalidation_1-rmse:0.902876\n",
      "[71]\tvalidation_0-rmse:0.821863\tvalidation_1-rmse:0.902396\n",
      "[72]\tvalidation_0-rmse:0.821455\tvalidation_1-rmse:0.902206\n",
      "[73]\tvalidation_0-rmse:0.821221\tvalidation_1-rmse:0.902255\n",
      "[74]\tvalidation_0-rmse:0.821014\tvalidation_1-rmse:0.902025\n",
      "[75]\tvalidation_0-rmse:0.820642\tvalidation_1-rmse:0.902032\n",
      "[76]\tvalidation_0-rmse:0.819956\tvalidation_1-rmse:0.902442\n",
      "[77]\tvalidation_0-rmse:0.81969\tvalidation_1-rmse:0.902294\n",
      "[78]\tvalidation_0-rmse:0.819521\tvalidation_1-rmse:0.902353\n",
      "[79]\tvalidation_0-rmse:0.819095\tvalidation_1-rmse:0.902106\n",
      "[80]\tvalidation_0-rmse:0.818804\tvalidation_1-rmse:0.902048\n",
      "[81]\tvalidation_0-rmse:0.81844\tvalidation_1-rmse:0.901593\n",
      "[82]\tvalidation_0-rmse:0.81817\tvalidation_1-rmse:0.901304\n",
      "[83]\tvalidation_0-rmse:0.818046\tvalidation_1-rmse:0.901253\n",
      "[84]\tvalidation_0-rmse:0.817634\tvalidation_1-rmse:0.901277\n",
      "[85]\tvalidation_0-rmse:0.817509\tvalidation_1-rmse:0.900877\n",
      "[86]\tvalidation_0-rmse:0.817395\tvalidation_1-rmse:0.901486\n",
      "[87]\tvalidation_0-rmse:0.81676\tvalidation_1-rmse:0.901733\n",
      "[88]\tvalidation_0-rmse:0.81645\tvalidation_1-rmse:0.901827\n",
      "[89]\tvalidation_0-rmse:0.816339\tvalidation_1-rmse:0.90176\n",
      "[90]\tvalidation_0-rmse:0.815732\tvalidation_1-rmse:0.902114\n",
      "[91]\tvalidation_0-rmse:0.815421\tvalidation_1-rmse:0.901752\n",
      "[92]\tvalidation_0-rmse:0.815175\tvalidation_1-rmse:0.901821\n",
      "[93]\tvalidation_0-rmse:0.81501\tvalidation_1-rmse:0.901862\n",
      "[94]\tvalidation_0-rmse:0.814543\tvalidation_1-rmse:0.901748\n",
      "[95]\tvalidation_0-rmse:0.81376\tvalidation_1-rmse:0.903865\n",
      "Stopping. Best iteration:\n",
      "[85]\tvalidation_0-rmse:0.817509\tvalidation_1-rmse:0.900877\n",
      "\n"
     ]
    },
    {
     "data": {
      "text/plain": [
       "310.94425797462463"
      ]
     },
     "execution_count": 10,
     "metadata": {},
     "output_type": "execute_result"
    }
   ],
   "source": [
    "ts = time.time()\n",
    "\n",
    "model = XGBRegressor(\n",
    "    max_depth=8,\n",
    "    n_estimators=1000,\n",
    "    min_child_weight=300, \n",
    "    colsample_bytree=0.8, \n",
    "    subsample=0.8, \n",
    "    eta=0.4,  # Learning rate\n",
    "    nthread=8,\n",
    "    seed=42)\n",
    "\n",
    "model.fit(\n",
    "    X_train, \n",
    "    Y_train, \n",
    "    eval_metric=\"rmse\", \n",
    "    eval_set=[(X_train, Y_train), (X_valid, Y_valid)], \n",
    "    verbose=True, \n",
    "    early_stopping_rounds = 10)\n",
    "\n",
    "time.time() - ts"
   ]
  },
  {
   "cell_type": "code",
   "execution_count": 17,
   "metadata": {},
   "outputs": [
    {
     "name": "stdout",
     "output_type": "stream",
     "text": [
      "[0]\tvalidation_0-rmse:1.15329\tvalidation_1-rmse:1.12146\n",
      "Multiple eval metrics have been passed: 'validation_1-rmse' will be used for early stopping.\n",
      "\n",
      "Will train until validation_1-rmse hasn't improved in 10 rounds.\n",
      "[1]\tvalidation_0-rmse:1.11985\tvalidation_1-rmse:1.09355\n",
      "[2]\tvalidation_0-rmse:1.07694\tvalidation_1-rmse:1.06238\n",
      "[3]\tvalidation_0-rmse:1.04554\tvalidation_1-rmse:1.03597\n",
      "[4]\tvalidation_0-rmse:1.01902\tvalidation_1-rmse:1.01682\n",
      "[5]\tvalidation_0-rmse:0.992806\tvalidation_1-rmse:0.998278\n",
      "[6]\tvalidation_0-rmse:0.971415\tvalidation_1-rmse:0.984658\n",
      "[7]\tvalidation_0-rmse:0.95849\tvalidation_1-rmse:0.97504\n",
      "[8]\tvalidation_0-rmse:0.946668\tvalidation_1-rmse:0.967067\n",
      "[9]\tvalidation_0-rmse:0.933969\tvalidation_1-rmse:0.957033\n",
      "[10]\tvalidation_0-rmse:0.923285\tvalidation_1-rmse:0.949666\n",
      "[11]\tvalidation_0-rmse:0.911937\tvalidation_1-rmse:0.943084\n",
      "[12]\tvalidation_0-rmse:0.904828\tvalidation_1-rmse:0.939156\n",
      "[13]\tvalidation_0-rmse:0.898619\tvalidation_1-rmse:0.934566\n",
      "[14]\tvalidation_0-rmse:0.89304\tvalidation_1-rmse:0.93175\n",
      "[15]\tvalidation_0-rmse:0.887151\tvalidation_1-rmse:0.929734\n",
      "[16]\tvalidation_0-rmse:0.883042\tvalidation_1-rmse:0.927298\n",
      "[17]\tvalidation_0-rmse:0.879865\tvalidation_1-rmse:0.925625\n",
      "[18]\tvalidation_0-rmse:0.877262\tvalidation_1-rmse:0.923896\n",
      "[19]\tvalidation_0-rmse:0.874676\tvalidation_1-rmse:0.922737\n",
      "[20]\tvalidation_0-rmse:0.872261\tvalidation_1-rmse:0.922375\n",
      "[21]\tvalidation_0-rmse:0.869884\tvalidation_1-rmse:0.92124\n",
      "[22]\tvalidation_0-rmse:0.867797\tvalidation_1-rmse:0.920822\n",
      "[23]\tvalidation_0-rmse:0.865842\tvalidation_1-rmse:0.919547\n",
      "[24]\tvalidation_0-rmse:0.86411\tvalidation_1-rmse:0.918712\n",
      "[25]\tvalidation_0-rmse:0.862971\tvalidation_1-rmse:0.918705\n",
      "[26]\tvalidation_0-rmse:0.86155\tvalidation_1-rmse:0.91784\n",
      "[27]\tvalidation_0-rmse:0.86052\tvalidation_1-rmse:0.917698\n",
      "[28]\tvalidation_0-rmse:0.859234\tvalidation_1-rmse:0.917334\n",
      "[29]\tvalidation_0-rmse:0.858418\tvalidation_1-rmse:0.91699\n",
      "[30]\tvalidation_0-rmse:0.857648\tvalidation_1-rmse:0.916524\n",
      "[31]\tvalidation_0-rmse:0.856951\tvalidation_1-rmse:0.916327\n",
      "[32]\tvalidation_0-rmse:0.855888\tvalidation_1-rmse:0.915699\n",
      "[33]\tvalidation_0-rmse:0.854897\tvalidation_1-rmse:0.915075\n",
      "[34]\tvalidation_0-rmse:0.854252\tvalidation_1-rmse:0.914993\n",
      "[35]\tvalidation_0-rmse:0.853546\tvalidation_1-rmse:0.914631\n",
      "[36]\tvalidation_0-rmse:0.853049\tvalidation_1-rmse:0.914353\n",
      "[37]\tvalidation_0-rmse:0.852516\tvalidation_1-rmse:0.913798\n",
      "[38]\tvalidation_0-rmse:0.851819\tvalidation_1-rmse:0.913801\n",
      "[39]\tvalidation_0-rmse:0.850929\tvalidation_1-rmse:0.913194\n",
      "[40]\tvalidation_0-rmse:0.850255\tvalidation_1-rmse:0.912958\n",
      "[41]\tvalidation_0-rmse:0.849392\tvalidation_1-rmse:0.911907\n",
      "[42]\tvalidation_0-rmse:0.848929\tvalidation_1-rmse:0.911679\n",
      "[43]\tvalidation_0-rmse:0.848562\tvalidation_1-rmse:0.911504\n",
      "[44]\tvalidation_0-rmse:0.848141\tvalidation_1-rmse:0.91116\n",
      "[45]\tvalidation_0-rmse:0.847673\tvalidation_1-rmse:0.911067\n",
      "[46]\tvalidation_0-rmse:0.84717\tvalidation_1-rmse:0.911003\n",
      "[47]\tvalidation_0-rmse:0.846594\tvalidation_1-rmse:0.911374\n",
      "[48]\tvalidation_0-rmse:0.846051\tvalidation_1-rmse:0.910984\n",
      "[49]\tvalidation_0-rmse:0.84558\tvalidation_1-rmse:0.911436\n",
      "[50]\tvalidation_0-rmse:0.845193\tvalidation_1-rmse:0.911189\n",
      "[51]\tvalidation_0-rmse:0.844893\tvalidation_1-rmse:0.91095\n",
      "[52]\tvalidation_0-rmse:0.844342\tvalidation_1-rmse:0.909754\n",
      "[53]\tvalidation_0-rmse:0.843617\tvalidation_1-rmse:0.909577\n",
      "[54]\tvalidation_0-rmse:0.843208\tvalidation_1-rmse:0.90939\n",
      "[55]\tvalidation_0-rmse:0.842979\tvalidation_1-rmse:0.90936\n",
      "[56]\tvalidation_0-rmse:0.842508\tvalidation_1-rmse:0.908269\n",
      "[57]\tvalidation_0-rmse:0.84212\tvalidation_1-rmse:0.907872\n",
      "[58]\tvalidation_0-rmse:0.841093\tvalidation_1-rmse:0.907644\n",
      "[59]\tvalidation_0-rmse:0.840417\tvalidation_1-rmse:0.908893\n",
      "[60]\tvalidation_0-rmse:0.84011\tvalidation_1-rmse:0.908624\n",
      "[61]\tvalidation_0-rmse:0.839728\tvalidation_1-rmse:0.908361\n",
      "[62]\tvalidation_0-rmse:0.839168\tvalidation_1-rmse:0.908054\n",
      "[63]\tvalidation_0-rmse:0.838954\tvalidation_1-rmse:0.908213\n",
      "[64]\tvalidation_0-rmse:0.838691\tvalidation_1-rmse:0.908172\n",
      "[65]\tvalidation_0-rmse:0.837509\tvalidation_1-rmse:0.906551\n",
      "[66]\tvalidation_0-rmse:0.837273\tvalidation_1-rmse:0.906539\n",
      "[67]\tvalidation_0-rmse:0.836759\tvalidation_1-rmse:0.906192\n",
      "[68]\tvalidation_0-rmse:0.836604\tvalidation_1-rmse:0.906136\n",
      "[69]\tvalidation_0-rmse:0.835849\tvalidation_1-rmse:0.905611\n",
      "[70]\tvalidation_0-rmse:0.835382\tvalidation_1-rmse:0.905531\n",
      "[71]\tvalidation_0-rmse:0.835167\tvalidation_1-rmse:0.905063\n",
      "[72]\tvalidation_0-rmse:0.8347\tvalidation_1-rmse:0.904745\n",
      "[73]\tvalidation_0-rmse:0.834443\tvalidation_1-rmse:0.904711\n",
      "[74]\tvalidation_0-rmse:0.834246\tvalidation_1-rmse:0.904557\n",
      "[75]\tvalidation_0-rmse:0.834031\tvalidation_1-rmse:0.904468\n",
      "[76]\tvalidation_0-rmse:0.833716\tvalidation_1-rmse:0.904016\n",
      "[77]\tvalidation_0-rmse:0.833474\tvalidation_1-rmse:0.903956\n",
      "[78]\tvalidation_0-rmse:0.833149\tvalidation_1-rmse:0.903533\n",
      "[79]\tvalidation_0-rmse:0.832687\tvalidation_1-rmse:0.903174\n",
      "[80]\tvalidation_0-rmse:0.831959\tvalidation_1-rmse:0.902636\n",
      "[81]\tvalidation_0-rmse:0.831742\tvalidation_1-rmse:0.902479\n",
      "[82]\tvalidation_0-rmse:0.83162\tvalidation_1-rmse:0.902418\n",
      "[83]\tvalidation_0-rmse:0.831407\tvalidation_1-rmse:0.901752\n",
      "[84]\tvalidation_0-rmse:0.830937\tvalidation_1-rmse:0.902196\n",
      "[85]\tvalidation_0-rmse:0.830375\tvalidation_1-rmse:0.901715\n",
      "[86]\tvalidation_0-rmse:0.829623\tvalidation_1-rmse:0.90255\n",
      "[87]\tvalidation_0-rmse:0.829305\tvalidation_1-rmse:0.90233\n",
      "[88]\tvalidation_0-rmse:0.829065\tvalidation_1-rmse:0.901901\n",
      "[89]\tvalidation_0-rmse:0.828995\tvalidation_1-rmse:0.901957\n",
      "[90]\tvalidation_0-rmse:0.82847\tvalidation_1-rmse:0.901893\n",
      "[91]\tvalidation_0-rmse:0.828182\tvalidation_1-rmse:0.901642\n",
      "[92]\tvalidation_0-rmse:0.827987\tvalidation_1-rmse:0.901516\n",
      "[93]\tvalidation_0-rmse:0.827746\tvalidation_1-rmse:0.901696\n",
      "[94]\tvalidation_0-rmse:0.82764\tvalidation_1-rmse:0.901763\n",
      "[95]\tvalidation_0-rmse:0.827158\tvalidation_1-rmse:0.900596\n",
      "[96]\tvalidation_0-rmse:0.826813\tvalidation_1-rmse:0.90057\n",
      "[97]\tvalidation_0-rmse:0.82649\tvalidation_1-rmse:0.900419\n",
      "[98]\tvalidation_0-rmse:0.826327\tvalidation_1-rmse:0.900353\n",
      "[99]\tvalidation_0-rmse:0.826211\tvalidation_1-rmse:0.900087\n",
      "[100]\tvalidation_0-rmse:0.82599\tvalidation_1-rmse:0.900427\n",
      "[101]\tvalidation_0-rmse:0.825684\tvalidation_1-rmse:0.899784\n",
      "[102]\tvalidation_0-rmse:0.825517\tvalidation_1-rmse:0.899993\n",
      "[103]\tvalidation_0-rmse:0.825181\tvalidation_1-rmse:0.899752\n",
      "[104]\tvalidation_0-rmse:0.825027\tvalidation_1-rmse:0.899532\n",
      "[105]\tvalidation_0-rmse:0.824784\tvalidation_1-rmse:0.899054\n",
      "[106]\tvalidation_0-rmse:0.824649\tvalidation_1-rmse:0.899022\n",
      "[107]\tvalidation_0-rmse:0.824497\tvalidation_1-rmse:0.899205\n",
      "[108]\tvalidation_0-rmse:0.824347\tvalidation_1-rmse:0.899161\n",
      "[109]\tvalidation_0-rmse:0.823488\tvalidation_1-rmse:0.899673\n",
      "[110]\tvalidation_0-rmse:0.822869\tvalidation_1-rmse:0.899022\n",
      "[111]\tvalidation_0-rmse:0.822756\tvalidation_1-rmse:0.899067\n",
      "[112]\tvalidation_0-rmse:0.8221\tvalidation_1-rmse:0.898919\n",
      "[113]\tvalidation_0-rmse:0.821838\tvalidation_1-rmse:0.898704\n",
      "[114]\tvalidation_0-rmse:0.82146\tvalidation_1-rmse:0.898774\n",
      "[115]\tvalidation_0-rmse:0.82134\tvalidation_1-rmse:0.898672\n",
      "[116]\tvalidation_0-rmse:0.821275\tvalidation_1-rmse:0.898648\n",
      "[117]\tvalidation_0-rmse:0.820748\tvalidation_1-rmse:0.898633\n",
      "[118]\tvalidation_0-rmse:0.820582\tvalidation_1-rmse:0.898563\n",
      "[119]\tvalidation_0-rmse:0.820036\tvalidation_1-rmse:0.898543\n",
      "[120]\tvalidation_0-rmse:0.819975\tvalidation_1-rmse:0.8986\n",
      "[121]\tvalidation_0-rmse:0.819761\tvalidation_1-rmse:0.89884\n",
      "[122]\tvalidation_0-rmse:0.819609\tvalidation_1-rmse:0.898731\n",
      "[123]\tvalidation_0-rmse:0.819467\tvalidation_1-rmse:0.898741\n",
      "[124]\tvalidation_0-rmse:0.819327\tvalidation_1-rmse:0.898718\n",
      "[125]\tvalidation_0-rmse:0.818939\tvalidation_1-rmse:0.898485\n",
      "[126]\tvalidation_0-rmse:0.818763\tvalidation_1-rmse:0.898392\n",
      "[127]\tvalidation_0-rmse:0.818663\tvalidation_1-rmse:0.898375\n",
      "[128]\tvalidation_0-rmse:0.818562\tvalidation_1-rmse:0.898561\n",
      "[129]\tvalidation_0-rmse:0.818406\tvalidation_1-rmse:0.898447\n",
      "[130]\tvalidation_0-rmse:0.818205\tvalidation_1-rmse:0.898442\n",
      "[131]\tvalidation_0-rmse:0.818109\tvalidation_1-rmse:0.898414\n",
      "[132]\tvalidation_0-rmse:0.817844\tvalidation_1-rmse:0.898166\n",
      "[133]\tvalidation_0-rmse:0.81772\tvalidation_1-rmse:0.898142\n",
      "[134]\tvalidation_0-rmse:0.817337\tvalidation_1-rmse:0.898205\n",
      "[135]\tvalidation_0-rmse:0.816611\tvalidation_1-rmse:0.898473\n",
      "[136]\tvalidation_0-rmse:0.816508\tvalidation_1-rmse:0.898433\n"
     ]
    },
    {
     "name": "stdout",
     "output_type": "stream",
     "text": [
      "[137]\tvalidation_0-rmse:0.816396\tvalidation_1-rmse:0.898391\n",
      "[138]\tvalidation_0-rmse:0.816296\tvalidation_1-rmse:0.898314\n",
      "[139]\tvalidation_0-rmse:0.816221\tvalidation_1-rmse:0.898307\n",
      "[140]\tvalidation_0-rmse:0.816136\tvalidation_1-rmse:0.898242\n",
      "[141]\tvalidation_0-rmse:0.81585\tvalidation_1-rmse:0.897952\n",
      "[142]\tvalidation_0-rmse:0.815777\tvalidation_1-rmse:0.898026\n",
      "[143]\tvalidation_0-rmse:0.815712\tvalidation_1-rmse:0.898111\n",
      "[144]\tvalidation_0-rmse:0.815649\tvalidation_1-rmse:0.897993\n",
      "[145]\tvalidation_0-rmse:0.815579\tvalidation_1-rmse:0.897952\n",
      "[146]\tvalidation_0-rmse:0.815473\tvalidation_1-rmse:0.897825\n",
      "[147]\tvalidation_0-rmse:0.81539\tvalidation_1-rmse:0.897728\n",
      "[148]\tvalidation_0-rmse:0.81499\tvalidation_1-rmse:0.898112\n",
      "[149]\tvalidation_0-rmse:0.814807\tvalidation_1-rmse:0.898205\n",
      "[150]\tvalidation_0-rmse:0.814597\tvalidation_1-rmse:0.898069\n",
      "[151]\tvalidation_0-rmse:0.814466\tvalidation_1-rmse:0.898031\n",
      "[152]\tvalidation_0-rmse:0.814373\tvalidation_1-rmse:0.898043\n",
      "[153]\tvalidation_0-rmse:0.813989\tvalidation_1-rmse:0.898002\n",
      "[154]\tvalidation_0-rmse:0.813907\tvalidation_1-rmse:0.897967\n",
      "[155]\tvalidation_0-rmse:0.813793\tvalidation_1-rmse:0.897881\n",
      "[156]\tvalidation_0-rmse:0.813691\tvalidation_1-rmse:0.897826\n",
      "[157]\tvalidation_0-rmse:0.813617\tvalidation_1-rmse:0.897787\n",
      "Stopping. Best iteration:\n",
      "[147]\tvalidation_0-rmse:0.81539\tvalidation_1-rmse:0.897728\n",
      "\n"
     ]
    },
    {
     "data": {
      "text/plain": [
       "441.20721101760864"
      ]
     },
     "execution_count": 17,
     "metadata": {},
     "output_type": "execute_result"
    }
   ],
   "source": [
    "ts = time.time()\n",
    "\n",
    "model = XGBRegressor(\n",
    "    max_depth=7,\n",
    "    n_estimators=1000,\n",
    "    min_child_weight=300, \n",
    "    colsample_bytree=0.8, \n",
    "    subsample=0.8, \n",
    "    eta=0.4,  # Learning rate\n",
    "    nthread=8,\n",
    "    seed=42)\n",
    "\n",
    "model.fit(\n",
    "    X_train, \n",
    "    Y_train, \n",
    "    eval_metric=\"rmse\", \n",
    "    eval_set=[(X_train, Y_train), (X_valid, Y_valid)], \n",
    "    verbose=True, \n",
    "    early_stopping_rounds = 10)\n",
    "\n",
    "time.time() - ts"
   ]
  },
  {
   "cell_type": "code",
   "execution_count": 19,
   "metadata": {},
   "outputs": [
    {
     "name": "stdout",
     "output_type": "stream",
     "text": [
      "[0]\tvalidation_0-rmse:1.15447\tvalidation_1-rmse:1.12334\n",
      "Multiple eval metrics have been passed: 'validation_1-rmse' will be used for early stopping.\n",
      "\n",
      "Will train until validation_1-rmse hasn't improved in 10 rounds.\n",
      "[1]\tvalidation_0-rmse:1.12229\tvalidation_1-rmse:1.09655\n",
      "[2]\tvalidation_0-rmse:1.0843\tvalidation_1-rmse:1.06718\n",
      "[3]\tvalidation_0-rmse:1.05087\tvalidation_1-rmse:1.04346\n",
      "[4]\tvalidation_0-rmse:1.02479\tvalidation_1-rmse:1.02418\n",
      "[5]\tvalidation_0-rmse:0.999108\tvalidation_1-rmse:1.00609\n",
      "[6]\tvalidation_0-rmse:0.978589\tvalidation_1-rmse:0.993417\n",
      "[7]\tvalidation_0-rmse:0.966378\tvalidation_1-rmse:0.983814\n",
      "[8]\tvalidation_0-rmse:0.956404\tvalidation_1-rmse:0.975754\n",
      "[9]\tvalidation_0-rmse:0.942455\tvalidation_1-rmse:0.965903\n",
      "[10]\tvalidation_0-rmse:0.931892\tvalidation_1-rmse:0.959046\n",
      "[11]\tvalidation_0-rmse:0.921156\tvalidation_1-rmse:0.952226\n",
      "[12]\tvalidation_0-rmse:0.914404\tvalidation_1-rmse:0.9479\n",
      "[13]\tvalidation_0-rmse:0.908431\tvalidation_1-rmse:0.944394\n",
      "[14]\tvalidation_0-rmse:0.902992\tvalidation_1-rmse:0.941249\n",
      "[15]\tvalidation_0-rmse:0.898691\tvalidation_1-rmse:0.937666\n",
      "[16]\tvalidation_0-rmse:0.893084\tvalidation_1-rmse:0.935764\n",
      "[17]\tvalidation_0-rmse:0.889514\tvalidation_1-rmse:0.934151\n",
      "[18]\tvalidation_0-rmse:0.88719\tvalidation_1-rmse:0.932772\n",
      "[19]\tvalidation_0-rmse:0.88473\tvalidation_1-rmse:0.931572\n",
      "[20]\tvalidation_0-rmse:0.882531\tvalidation_1-rmse:0.931038\n",
      "[21]\tvalidation_0-rmse:0.88021\tvalidation_1-rmse:0.930386\n",
      "[22]\tvalidation_0-rmse:0.878193\tvalidation_1-rmse:0.92974\n",
      "[23]\tvalidation_0-rmse:0.876472\tvalidation_1-rmse:0.92849\n",
      "[24]\tvalidation_0-rmse:0.875147\tvalidation_1-rmse:0.9278\n",
      "[25]\tvalidation_0-rmse:0.873957\tvalidation_1-rmse:0.927444\n",
      "[26]\tvalidation_0-rmse:0.872507\tvalidation_1-rmse:0.926695\n",
      "[27]\tvalidation_0-rmse:0.871166\tvalidation_1-rmse:0.925698\n",
      "[28]\tvalidation_0-rmse:0.870289\tvalidation_1-rmse:0.925156\n",
      "[29]\tvalidation_0-rmse:0.869476\tvalidation_1-rmse:0.925009\n",
      "[30]\tvalidation_0-rmse:0.868597\tvalidation_1-rmse:0.924688\n",
      "[31]\tvalidation_0-rmse:0.867891\tvalidation_1-rmse:0.924629\n",
      "[32]\tvalidation_0-rmse:0.866943\tvalidation_1-rmse:0.924066\n",
      "[33]\tvalidation_0-rmse:0.865948\tvalidation_1-rmse:0.923117\n",
      "[34]\tvalidation_0-rmse:0.86539\tvalidation_1-rmse:0.923033\n",
      "[35]\tvalidation_0-rmse:0.864791\tvalidation_1-rmse:0.922832\n",
      "[36]\tvalidation_0-rmse:0.864004\tvalidation_1-rmse:0.922718\n",
      "[37]\tvalidation_0-rmse:0.863571\tvalidation_1-rmse:0.922097\n",
      "[38]\tvalidation_0-rmse:0.863165\tvalidation_1-rmse:0.921875\n",
      "[39]\tvalidation_0-rmse:0.862466\tvalidation_1-rmse:0.921595\n",
      "[40]\tvalidation_0-rmse:0.861685\tvalidation_1-rmse:0.921049\n",
      "[41]\tvalidation_0-rmse:0.860927\tvalidation_1-rmse:0.920382\n",
      "[42]\tvalidation_0-rmse:0.860454\tvalidation_1-rmse:0.919986\n",
      "[43]\tvalidation_0-rmse:0.860043\tvalidation_1-rmse:0.919756\n",
      "[44]\tvalidation_0-rmse:0.859453\tvalidation_1-rmse:0.919287\n",
      "[45]\tvalidation_0-rmse:0.859032\tvalidation_1-rmse:0.919271\n",
      "[46]\tvalidation_0-rmse:0.85873\tvalidation_1-rmse:0.919255\n",
      "[47]\tvalidation_0-rmse:0.858373\tvalidation_1-rmse:0.919239\n",
      "[48]\tvalidation_0-rmse:0.857876\tvalidation_1-rmse:0.919115\n",
      "[49]\tvalidation_0-rmse:0.857537\tvalidation_1-rmse:0.919065\n",
      "[50]\tvalidation_0-rmse:0.857261\tvalidation_1-rmse:0.919041\n",
      "[51]\tvalidation_0-rmse:0.857019\tvalidation_1-rmse:0.918825\n",
      "[52]\tvalidation_0-rmse:0.85646\tvalidation_1-rmse:0.918326\n",
      "[53]\tvalidation_0-rmse:0.856101\tvalidation_1-rmse:0.918229\n",
      "[54]\tvalidation_0-rmse:0.855631\tvalidation_1-rmse:0.917226\n",
      "[55]\tvalidation_0-rmse:0.855335\tvalidation_1-rmse:0.916957\n",
      "[56]\tvalidation_0-rmse:0.8549\tvalidation_1-rmse:0.916454\n",
      "[57]\tvalidation_0-rmse:0.85464\tvalidation_1-rmse:0.916348\n",
      "[58]\tvalidation_0-rmse:0.853565\tvalidation_1-rmse:0.914919\n",
      "[59]\tvalidation_0-rmse:0.85281\tvalidation_1-rmse:0.915783\n",
      "[60]\tvalidation_0-rmse:0.85146\tvalidation_1-rmse:0.914066\n",
      "[61]\tvalidation_0-rmse:0.8511\tvalidation_1-rmse:0.914007\n",
      "[62]\tvalidation_0-rmse:0.850508\tvalidation_1-rmse:0.913968\n",
      "[63]\tvalidation_0-rmse:0.850193\tvalidation_1-rmse:0.913677\n",
      "[64]\tvalidation_0-rmse:0.850065\tvalidation_1-rmse:0.913645\n",
      "[65]\tvalidation_0-rmse:0.849673\tvalidation_1-rmse:0.913371\n",
      "[66]\tvalidation_0-rmse:0.849405\tvalidation_1-rmse:0.913287\n",
      "[67]\tvalidation_0-rmse:0.848876\tvalidation_1-rmse:0.913201\n",
      "[68]\tvalidation_0-rmse:0.848112\tvalidation_1-rmse:0.912734\n",
      "[69]\tvalidation_0-rmse:0.847879\tvalidation_1-rmse:0.912613\n",
      "[70]\tvalidation_0-rmse:0.847729\tvalidation_1-rmse:0.91254\n",
      "[71]\tvalidation_0-rmse:0.847397\tvalidation_1-rmse:0.912045\n",
      "[72]\tvalidation_0-rmse:0.847279\tvalidation_1-rmse:0.911908\n",
      "[73]\tvalidation_0-rmse:0.8469\tvalidation_1-rmse:0.911596\n",
      "[74]\tvalidation_0-rmse:0.846742\tvalidation_1-rmse:0.911521\n",
      "[75]\tvalidation_0-rmse:0.846326\tvalidation_1-rmse:0.911398\n",
      "[76]\tvalidation_0-rmse:0.845926\tvalidation_1-rmse:0.910898\n",
      "[77]\tvalidation_0-rmse:0.845588\tvalidation_1-rmse:0.910621\n",
      "[78]\tvalidation_0-rmse:0.845298\tvalidation_1-rmse:0.910463\n",
      "[79]\tvalidation_0-rmse:0.845078\tvalidation_1-rmse:0.910361\n",
      "[80]\tvalidation_0-rmse:0.844428\tvalidation_1-rmse:0.909925\n",
      "[81]\tvalidation_0-rmse:0.84431\tvalidation_1-rmse:0.909734\n",
      "[82]\tvalidation_0-rmse:0.844176\tvalidation_1-rmse:0.909666\n",
      "[83]\tvalidation_0-rmse:0.844069\tvalidation_1-rmse:0.909617\n",
      "[84]\tvalidation_0-rmse:0.843502\tvalidation_1-rmse:0.909612\n",
      "[85]\tvalidation_0-rmse:0.84338\tvalidation_1-rmse:0.908983\n",
      "[86]\tvalidation_0-rmse:0.842962\tvalidation_1-rmse:0.909058\n",
      "[87]\tvalidation_0-rmse:0.842627\tvalidation_1-rmse:0.909033\n",
      "[88]\tvalidation_0-rmse:0.842448\tvalidation_1-rmse:0.908896\n",
      "[89]\tvalidation_0-rmse:0.84238\tvalidation_1-rmse:0.908825\n",
      "[90]\tvalidation_0-rmse:0.841985\tvalidation_1-rmse:0.909071\n",
      "[91]\tvalidation_0-rmse:0.841645\tvalidation_1-rmse:0.908509\n",
      "[92]\tvalidation_0-rmse:0.841445\tvalidation_1-rmse:0.908364\n",
      "[93]\tvalidation_0-rmse:0.841063\tvalidation_1-rmse:0.908576\n",
      "[94]\tvalidation_0-rmse:0.840465\tvalidation_1-rmse:0.908124\n",
      "[95]\tvalidation_0-rmse:0.8403\tvalidation_1-rmse:0.908123\n",
      "[96]\tvalidation_0-rmse:0.839975\tvalidation_1-rmse:0.908128\n",
      "[97]\tvalidation_0-rmse:0.839693\tvalidation_1-rmse:0.907975\n",
      "[98]\tvalidation_0-rmse:0.839537\tvalidation_1-rmse:0.907779\n",
      "[99]\tvalidation_0-rmse:0.839245\tvalidation_1-rmse:0.907925\n",
      "[100]\tvalidation_0-rmse:0.83908\tvalidation_1-rmse:0.907971\n",
      "[101]\tvalidation_0-rmse:0.838701\tvalidation_1-rmse:0.907547\n",
      "[102]\tvalidation_0-rmse:0.838625\tvalidation_1-rmse:0.907524\n",
      "[103]\tvalidation_0-rmse:0.83837\tvalidation_1-rmse:0.907368\n",
      "[104]\tvalidation_0-rmse:0.838126\tvalidation_1-rmse:0.907694\n",
      "[105]\tvalidation_0-rmse:0.837698\tvalidation_1-rmse:0.907494\n",
      "[106]\tvalidation_0-rmse:0.837622\tvalidation_1-rmse:0.907463\n",
      "[107]\tvalidation_0-rmse:0.837331\tvalidation_1-rmse:0.907273\n",
      "[108]\tvalidation_0-rmse:0.837114\tvalidation_1-rmse:0.907353\n",
      "[109]\tvalidation_0-rmse:0.836749\tvalidation_1-rmse:0.906876\n",
      "[110]\tvalidation_0-rmse:0.836673\tvalidation_1-rmse:0.906816\n",
      "[111]\tvalidation_0-rmse:0.836492\tvalidation_1-rmse:0.906776\n",
      "[112]\tvalidation_0-rmse:0.836283\tvalidation_1-rmse:0.906928\n",
      "[113]\tvalidation_0-rmse:0.836003\tvalidation_1-rmse:0.906727\n",
      "[114]\tvalidation_0-rmse:0.835682\tvalidation_1-rmse:0.905888\n",
      "[115]\tvalidation_0-rmse:0.834811\tvalidation_1-rmse:0.906731\n",
      "[116]\tvalidation_0-rmse:0.834703\tvalidation_1-rmse:0.906745\n",
      "[117]\tvalidation_0-rmse:0.834422\tvalidation_1-rmse:0.906092\n",
      "[118]\tvalidation_0-rmse:0.834313\tvalidation_1-rmse:0.906029\n",
      "[119]\tvalidation_0-rmse:0.833921\tvalidation_1-rmse:0.907138\n",
      "[120]\tvalidation_0-rmse:0.833599\tvalidation_1-rmse:0.9079\n",
      "[121]\tvalidation_0-rmse:0.833395\tvalidation_1-rmse:0.907907\n",
      "[122]\tvalidation_0-rmse:0.832979\tvalidation_1-rmse:0.90782\n",
      "[123]\tvalidation_0-rmse:0.832905\tvalidation_1-rmse:0.907783\n",
      "[124]\tvalidation_0-rmse:0.832683\tvalidation_1-rmse:0.907734\n",
      "Stopping. Best iteration:\n",
      "[114]\tvalidation_0-rmse:0.835682\tvalidation_1-rmse:0.905888\n",
      "\n"
     ]
    },
    {
     "data": {
      "text/plain": [
       "304.5328209400177"
      ]
     },
     "execution_count": 19,
     "metadata": {},
     "output_type": "execute_result"
    }
   ],
   "source": [
    "ts = time.time()\n",
    "\n",
    "model = XGBRegressor(\n",
    "    max_depth=6,\n",
    "    n_estimators=1000,\n",
    "    min_child_weight=300, \n",
    "    colsample_bytree=0.8, \n",
    "    subsample=0.8, \n",
    "    eta=0.4,  # Learning rate\n",
    "    nthread=8,\n",
    "    seed=42)\n",
    "\n",
    "model.fit(\n",
    "    X_train, \n",
    "    Y_train, \n",
    "    eval_metric=\"rmse\", \n",
    "    eval_set=[(X_train, Y_train), (X_valid, Y_valid)], \n",
    "    verbose=True, \n",
    "    early_stopping_rounds = 10)\n",
    "\n",
    "time.time() - ts"
   ]
  },
  {
   "cell_type": "code",
   "execution_count": 20,
   "metadata": {},
   "outputs": [],
   "source": [
    "Y_pred = model.predict(X_valid).clip(0, 20)\n",
    "Y_test = model.predict(X_test).clip(0, 20)\n",
    "\n",
    "submission = pd.DataFrame({\n",
    "    \"ID\": test.index, \n",
    "    \"item_cnt_month\": Y_test\n",
    "})\n",
    "submission.to_csv('xgb_submission.csv', index=False)\n",
    "\n",
    "# save predictions for an ensemble\n",
    "pickle.dump(Y_pred, open('xgb_train.pickle', 'wb'))\n",
    "pickle.dump(Y_test, open('xgb_test.pickle', 'wb'))"
   ]
  },
  {
   "cell_type": "code",
   "execution_count": 179,
   "metadata": {},
   "outputs": [
    {
     "data": {
      "text/plain": [
       "<matplotlib.axes._subplots.AxesSubplot at 0x1245c42e8>"
      ]
     },
     "execution_count": 179,
     "metadata": {},
     "output_type": "execute_result"
    },
    {
     "data": {
      "image/png": "[encoded data removed]",
      "text/plain": [
       "<Figure size 720x1008 with 1 Axes>"
      ]
     },
     "metadata": {
      "needs_background": "light"
     },
     "output_type": "display_data"
    }
   ],
   "source": [
    "plot_features(model, (10,14))"
   ]
  },
  {
   "cell_type": "markdown",
   "metadata": {},
   "source": [
    "# 目前最好\n",
    "## model:\n",
    "```\n",
    "model:\n",
    "ts = time.time()\n",
    "\n",
    "model = XGBRegressor(\n",
    "    max_depth=8,\n",
    "    n_estimators=1000,\n",
    "    min_child_weight=300, \n",
    "    colsample_bytree=0.8, \n",
    "    subsample=0.8, \n",
    "    eta=0.35,  # Learning rate\n",
    "    nthread=8,\n",
    "    seed=56)\n",
    "\n",
    "model.fit(\n",
    "    X_train, \n",
    "    Y_train, \n",
    "    eval_metric=\"rmse\", \n",
    "    eval_set=[(X_train, Y_train), (X_valid, Y_valid)], \n",
    "    verbose=True, \n",
    "    early_stopping_rounds = 10)\n",
    "\n",
    "time.time() - ts\n",
    "```\n",
    "## data:\n",
    "```\n",
    "data = data[[\n",
    "    'date_block_num',\n",
    "    'shop_id',\n",
    "    'item_id',\n",
    "    'item_cnt_month',\n",
    "    'city_code',\n",
    "    'item_category_id',\n",
    "    'type_code',\n",
    "    'subtype_code',\n",
    "    'item_cnt_month_lag_1',\n",
    "    'item_cnt_month_lag_2',\n",
    "    'item_cnt_month_lag_3',\n",
    "    'item_cnt_month_lag_6',\n",
    "    'item_cnt_month_lag_12',\n",
    "    'date_avg_item_cnt_lag_1',\n",
    "    'date_item_avg_item_cnt_lag_1',\n",
    "    'date_item_avg_item_cnt_lag_2',\n",
    "    'date_item_avg_item_cnt_lag_3',\n",
    "    'date_item_avg_item_cnt_lag_6',\n",
    "    'date_item_avg_item_cnt_lag_12',\n",
    "    'date_shop_avg_item_cnt_lag_1',\n",
    "    'date_shop_avg_item_cnt_lag_2',\n",
    "    'date_shop_avg_item_cnt_lag_3',\n",
    "    'date_shop_avg_item_cnt_lag_6',\n",
    "    'date_shop_avg_item_cnt_lag_12',\n",
    "    'date_cat_avg_item_cnt_lag_1',\n",
    "    'date_shop_cat_avg_item_cnt_lag_1',\n",
    "    'date_shop_type_avg_item_cnt_lag_1',\n",
    "    'date_shop_subtype_avg_item_cnt_lag_1',\n",
    "    'date_city_avg_item_cnt_lag_1',\n",
    "    'date_item_city_avg_item_cnt_lag_1',\n",
    "    'date_type_avg_item_cnt_lag_1',\n",
    "    'date_subtype_avg_item_cnt_lag_1',\n",
    "    'delta_price_lag',\n",
    "    'month',\n",
    "    'days',\n",
    "    'item_shop_last_sale',\n",
    "    'item_last_sale',\n",
    "    'item_shop_first_sale',\n",
    "    'item_first_sale',\n",
    "]]\n",
    "```"
   ]
  },
  {
   "cell_type": "code",
   "execution_count": 22,
   "metadata": {},
   "outputs": [],
   "source": [
    "s1 = pd.read_csv(\"../../Downloads/xgb_submission.csv\")\n",
    "s2 = pd.read_csv(\"../../Downloads/xgb_submission (1).csv\")"
   ]
  },
  {
   "cell_type": "code",
   "execution_count": 24,
   "metadata": {},
   "outputs": [],
   "source": [
    "s = pd.merge(s1, s2, on=['ID'], how='left')"
   ]
  },
  {
   "cell_type": "code",
   "execution_count": 25,
   "metadata": {},
   "outputs": [
    {
     "data": {
      "text/html": [
       "<div>\n",
       "<style scoped>\n",
       "    .dataframe tbody tr th:only-of-type {\n",
       "        vertical-align: middle;\n",
       "    }\n",
       "\n",
       "    .dataframe tbody tr th {\n",
       "        vertical-align: top;\n",
       "    }\n",
       "\n",
       "    .dataframe thead th {\n",
       "        text-align: right;\n",
       "    }\n",
       "</style>\n",
       "<table border=\"1\" class=\"dataframe\">\n",
       "  <thead>\n",
       "    <tr style=\"text-align: right;\">\n",
       "      <th></th>\n",
       "      <th>ID</th>\n",
       "      <th>item_cnt_month_x</th>\n",
       "      <th>item_cnt_month_y</th>\n",
       "    </tr>\n",
       "  </thead>\n",
       "  <tbody>\n",
       "    <tr>\n",
       "      <th>0</th>\n",
       "      <td>0</td>\n",
       "      <td>0.580359</td>\n",
       "      <td>0.549840</td>\n",
       "    </tr>\n",
       "    <tr>\n",
       "      <th>1</th>\n",
       "      <td>1</td>\n",
       "      <td>0.358934</td>\n",
       "      <td>0.470411</td>\n",
       "    </tr>\n",
       "    <tr>\n",
       "      <th>2</th>\n",
       "      <td>2</td>\n",
       "      <td>1.199845</td>\n",
       "      <td>1.164494</td>\n",
       "    </tr>\n",
       "    <tr>\n",
       "      <th>3</th>\n",
       "      <td>3</td>\n",
       "      <td>0.469782</td>\n",
       "      <td>0.371240</td>\n",
       "    </tr>\n",
       "    <tr>\n",
       "      <th>4</th>\n",
       "      <td>4</td>\n",
       "      <td>3.862634</td>\n",
       "      <td>3.865786</td>\n",
       "    </tr>\n",
       "  </tbody>\n",
       "</table>\n",
       "</div>"
      ],
      "text/plain": [
       "   ID  item_cnt_month_x  item_cnt_month_y\n",
       "0   0          0.580359          0.549840\n",
       "1   1          0.358934          0.470411\n",
       "2   2          1.199845          1.164494\n",
       "3   3          0.469782          0.371240\n",
       "4   4          3.862634          3.865786"
      ]
     },
     "execution_count": 25,
     "metadata": {},
     "output_type": "execute_result"
    }
   ],
   "source": [
    "s.head()"
   ]
  },
  {
   "cell_type": "code",
   "execution_count": 29,
   "metadata": {},
   "outputs": [],
   "source": [
    "def cnt_month_mean(x):\n",
    "    return (x[0] + x[1])/2"
   ]
  },
  {
   "cell_type": "code",
   "execution_count": 32,
   "metadata": {},
   "outputs": [],
   "source": [
    "s['item_cnt_month'] = s[['item_cnt_month_x','item_cnt_month_y']].apply(cnt_month_mean,axis=1)"
   ]
  },
  {
   "cell_type": "code",
   "execution_count": 33,
   "metadata": {},
   "outputs": [
    {
     "data": {
      "text/html": [
       "<div>\n",
       "<style scoped>\n",
       "    .dataframe tbody tr th:only-of-type {\n",
       "        vertical-align: middle;\n",
       "    }\n",
       "\n",
       "    .dataframe tbody tr th {\n",
       "        vertical-align: top;\n",
       "    }\n",
       "\n",
       "    .dataframe thead th {\n",
       "        text-align: right;\n",
       "    }\n",
       "</style>\n",
       "<table border=\"1\" class=\"dataframe\">\n",
       "  <thead>\n",
       "    <tr style=\"text-align: right;\">\n",
       "      <th></th>\n",
       "      <th>ID</th>\n",
       "      <th>item_cnt_month_x</th>\n",
       "      <th>item_cnt_month_y</th>\n",
       "      <th>item_cnt_month</th>\n",
       "    </tr>\n",
       "  </thead>\n",
       "  <tbody>\n",
       "    <tr>\n",
       "      <th>0</th>\n",
       "      <td>0</td>\n",
       "      <td>0.580359</td>\n",
       "      <td>0.549840</td>\n",
       "      <td>0.565100</td>\n",
       "    </tr>\n",
       "    <tr>\n",
       "      <th>1</th>\n",
       "      <td>1</td>\n",
       "      <td>0.358934</td>\n",
       "      <td>0.470411</td>\n",
       "      <td>0.414672</td>\n",
       "    </tr>\n",
       "    <tr>\n",
       "      <th>2</th>\n",
       "      <td>2</td>\n",
       "      <td>1.199845</td>\n",
       "      <td>1.164494</td>\n",
       "      <td>1.182169</td>\n",
       "    </tr>\n",
       "    <tr>\n",
       "      <th>3</th>\n",
       "      <td>3</td>\n",
       "      <td>0.469782</td>\n",
       "      <td>0.371240</td>\n",
       "      <td>0.420511</td>\n",
       "    </tr>\n",
       "    <tr>\n",
       "      <th>4</th>\n",
       "      <td>4</td>\n",
       "      <td>3.862634</td>\n",
       "      <td>3.865786</td>\n",
       "      <td>3.864210</td>\n",
       "    </tr>\n",
       "  </tbody>\n",
       "</table>\n",
       "</div>"
      ],
      "text/plain": [
       "   ID  item_cnt_month_x  item_cnt_month_y  item_cnt_month\n",
       "0   0          0.580359          0.549840        0.565100\n",
       "1   1          0.358934          0.470411        0.414672\n",
       "2   2          1.199845          1.164494        1.182169\n",
       "3   3          0.469782          0.371240        0.420511\n",
       "4   4          3.862634          3.865786        3.864210"
      ]
     },
     "execution_count": 33,
     "metadata": {},
     "output_type": "execute_result"
    }
   ],
   "source": [
    "s.head()"
   ]
  },
  {
   "cell_type": "code",
   "execution_count": 34,
   "metadata": {},
   "outputs": [],
   "source": [
    "sub = s.drop(['item_cnt_month_x','item_cnt_month_y'],axis=1)"
   ]
  },
  {
   "cell_type": "code",
   "execution_count": 35,
   "metadata": {},
   "outputs": [
    {
     "data": {
      "text/html": [
       "<div>\n",
       "<style scoped>\n",
       "    .dataframe tbody tr th:only-of-type {\n",
       "        vertical-align: middle;\n",
       "    }\n",
       "\n",
       "    .dataframe tbody tr th {\n",
       "        vertical-align: top;\n",
       "    }\n",
       "\n",
       "    .dataframe thead th {\n",
       "        text-align: right;\n",
       "    }\n",
       "</style>\n",
       "<table border=\"1\" class=\"dataframe\">\n",
       "  <thead>\n",
       "    <tr style=\"text-align: right;\">\n",
       "      <th></th>\n",
       "      <th>ID</th>\n",
       "      <th>item_cnt_month</th>\n",
       "    </tr>\n",
       "  </thead>\n",
       "  <tbody>\n",
       "    <tr>\n",
       "      <th>0</th>\n",
       "      <td>0</td>\n",
       "      <td>0.565100</td>\n",
       "    </tr>\n",
       "    <tr>\n",
       "      <th>1</th>\n",
       "      <td>1</td>\n",
       "      <td>0.414672</td>\n",
       "    </tr>\n",
       "    <tr>\n",
       "      <th>2</th>\n",
       "      <td>2</td>\n",
       "      <td>1.182169</td>\n",
       "    </tr>\n",
       "    <tr>\n",
       "      <th>3</th>\n",
       "      <td>3</td>\n",
       "      <td>0.420511</td>\n",
       "    </tr>\n",
       "    <tr>\n",
       "      <th>4</th>\n",
       "      <td>4</td>\n",
       "      <td>3.864210</td>\n",
       "    </tr>\n",
       "  </tbody>\n",
       "</table>\n",
       "</div>"
      ],
      "text/plain": [
       "   ID  item_cnt_month\n",
       "0   0        0.565100\n",
       "1   1        0.414672\n",
       "2   2        1.182169\n",
       "3   3        0.420511\n",
       "4   4        3.864210"
      ]
     },
     "execution_count": 35,
     "metadata": {},
     "output_type": "execute_result"
    }
   ],
   "source": [
    "sub.head()"
   ]
  },
  {
   "cell_type": "code",
   "execution_count": 36,
   "metadata": {},
   "outputs": [],
   "source": [
    "sub.to_csv('GGININDER.csv',index=False)"
   ]
  },
  {
   "cell_type": "code",
   "execution_count": null,
   "metadata": {},
   "outputs": [],
   "source": []
  }
 ],
 "metadata": {
  "kernelspec": {
   "display_name": "Python 3",
   "language": "python",
   "name": "python3"
  },
  "language_info": {
   "codemirror_mode": {
    "name": "ipython",
    "version": 3
   },
   "file_extension": ".py",
   "mimetype": "text/x-python",
   "name": "python",
   "nbconvert_exporter": "python",
   "pygments_lexer": "ipython3",
   "version": "3.6.5"
  }
 },
 "nbformat": 4,
 "nbformat_minor": 2
}
